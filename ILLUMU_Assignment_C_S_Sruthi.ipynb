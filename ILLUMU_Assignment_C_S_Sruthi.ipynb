{
  "nbformat": 4,
  "nbformat_minor": 0,
  "metadata": {
    "colab": {
      "name": "ILLUMU_Assignment-C S Sruthi.ipynb",
      "provenance": [],
      "include_colab_link": true
    },
    "kernelspec": {
      "name": "python3",
      "display_name": "Python 3"
    },
    "language_info": {
      "name": "python"
    }
  },
  "cells": [
    {
      "cell_type": "markdown",
      "metadata": {
        "id": "view-in-github",
        "colab_type": "text"
      },
      "source": [
        "<a href=\"https://colab.research.google.com/github/sruthics12/DCVST/blob/master/ILLUMU_Assignment_C_S_Sruthi.ipynb\" target=\"_parent\"><img src=\"https://colab.research.google.com/assets/colab-badge.svg\" alt=\"Open In Colab\"/></a>"
      ]
    },
    {
      "cell_type": "markdown",
      "metadata": {
        "id": "81DrOP7BVWpc"
      },
      "source": [
        "1. Using web scrapping tools, gather data from Reddit (https://www.reddit.com/r/Anxiety/) posted in the last 3 months\n",
        "2. Create a database of only 500 sentences\n",
        "3. take only 200 sentences from the database to annotate each sentence with 0-1 indicators. 0 means not anxious, and 1 means anxious. We understand that you are not a psychologist, so take your best guess while annotating.\n",
        "4. Build a model that learns on the annotated portion of the database  \n",
        "5. Come up with prediction of anxiety of the 300 other sentences from your algorithm"
      ]
    },
    {
      "cell_type": "code",
      "metadata": {
        "colab": {
          "base_uri": "https://localhost:8080/"
        },
        "id": "gSwhNW1lazRo",
        "outputId": "c51e7877-060d-40f5-db15-892e581c661c"
      },
      "source": [
        "#installing library for reddit scrapping\n",
        "!pip install praw\n",
        "import praw\n",
        "import pandas as pd"
      ],
      "execution_count": null,
      "outputs": [
        {
          "output_type": "stream",
          "name": "stdout",
          "text": [
            "Collecting praw\n",
            "  Downloading praw-7.4.0-py3-none-any.whl (167 kB)\n",
            "\u001b[K     |████████████████████████████████| 167 kB 5.4 MB/s \n",
            "\u001b[?25hCollecting prawcore<3,>=2.1\n",
            "  Downloading prawcore-2.3.0-py3-none-any.whl (16 kB)\n",
            "Collecting websocket-client>=0.54.0\n",
            "  Downloading websocket_client-1.2.1-py2.py3-none-any.whl (52 kB)\n",
            "\u001b[K     |████████████████████████████████| 52 kB 1.3 MB/s \n",
            "\u001b[?25hRequirement already satisfied: update-checker>=0.18 in /usr/local/lib/python3.7/dist-packages (from praw) (0.18.0)\n",
            "Requirement already satisfied: requests<3.0,>=2.6.0 in /usr/local/lib/python3.7/dist-packages (from prawcore<3,>=2.1->praw) (2.23.0)\n",
            "Requirement already satisfied: chardet<4,>=3.0.2 in /usr/local/lib/python3.7/dist-packages (from requests<3.0,>=2.6.0->prawcore<3,>=2.1->praw) (3.0.4)\n",
            "Requirement already satisfied: certifi>=2017.4.17 in /usr/local/lib/python3.7/dist-packages (from requests<3.0,>=2.6.0->prawcore<3,>=2.1->praw) (2021.5.30)\n",
            "Requirement already satisfied: idna<3,>=2.5 in /usr/local/lib/python3.7/dist-packages (from requests<3.0,>=2.6.0->prawcore<3,>=2.1->praw) (2.10)\n",
            "Requirement already satisfied: urllib3!=1.25.0,!=1.25.1,<1.26,>=1.21.1 in /usr/local/lib/python3.7/dist-packages (from requests<3.0,>=2.6.0->prawcore<3,>=2.1->praw) (1.24.3)\n",
            "Installing collected packages: websocket-client, prawcore, praw\n",
            "Successfully installed praw-7.4.0 prawcore-2.3.0 websocket-client-1.2.1\n"
          ]
        }
      ]
    },
    {
      "cell_type": "code",
      "metadata": {
        "id": "_1f0oTy56Zun"
      },
      "source": [
        "import time"
      ],
      "execution_count": null,
      "outputs": []
    },
    {
      "cell_type": "code",
      "metadata": {
        "id": "-XfF0watm7s_"
      },
      "source": [
        "# Acessing the reddit api\n",
        "reddit = praw.Reddit(client_id=\"\",#my client id\n",
        "                     client_secret=\"\",  #your client secret\n",
        "                     user_agent=\"\", #user agent name\n",
        "                     username = \"\",     # your reddit username\n",
        "                     password = \"\")     # your reddit password"
      ],
      "execution_count": null,
      "outputs": []
    },
    {
      "cell_type": "code",
      "metadata": {
        "colab": {
          "base_uri": "https://localhost:8080/"
        },
        "id": "rQvtUqsYm4Do",
        "outputId": "1493d734-9314-4804-c835-9cd911ab4811"
      },
      "source": [
        "# Creating a dictionary to store the data scraped\n",
        "post_dict = {\n",
        "    \"title\" : [],\n",
        "    \"score\" : [],\n",
        "    \"id\" : [],\n",
        "    \"url\" : [],\n",
        "    \"comms_num\": [],\n",
        "    \"created\" : [],\n",
        "    \"body\" : []}\n",
        "for submission in reddit.subreddit('Anxiety').hot(limit=100):\n",
        "  post_dict[\"title\"].append(submission.title)\n",
        "  post_dict[\"score\"].append(submission.score)\n",
        "  post_dict[\"id\"].append(submission.id)\n",
        "  post_dict[\"url\"].append(submission.url)\n",
        "  post_dict[\"comms_num\"].append(submission.num_comments)\n",
        "  post_dict[\"created\"].append(submission.created)\n",
        "  post_dict[\"body\"].append(submission.selftext)"
      ],
      "execution_count": null,
      "outputs": [
        {
          "output_type": "stream",
          "name": "stderr",
          "text": [
            "It appears that you are using PRAW in an asynchronous environment.\n",
            "It is strongly recommended to use Async PRAW: https://asyncpraw.readthedocs.io.\n",
            "See https://praw.readthedocs.io/en/latest/getting_started/multiple_instances.html#discord-bots-and-asynchronous-environments for more info.\n",
            "\n"
          ]
        }
      ]
    },
    {
      "cell_type": "code",
      "metadata": {
        "id": "HVcqveLUfJw8",
        "colab": {
          "base_uri": "https://localhost:8080/",
          "height": 525
        },
        "outputId": "48e3782d-c20d-451a-bcf4-faae872d31cd"
      },
      "source": [
        "#converting dictionary to a pandas dataframe for data preparation\n",
        "post_data = pd.DataFrame(post_dict)\n",
        "post_data.head(10)"
      ],
      "execution_count": null,
      "outputs": [
        {
          "output_type": "execute_result",
          "data": {
            "text/html": [
              "<div>\n",
              "<style scoped>\n",
              "    .dataframe tbody tr th:only-of-type {\n",
              "        vertical-align: middle;\n",
              "    }\n",
              "\n",
              "    .dataframe tbody tr th {\n",
              "        vertical-align: top;\n",
              "    }\n",
              "\n",
              "    .dataframe thead th {\n",
              "        text-align: right;\n",
              "    }\n",
              "</style>\n",
              "<table border=\"1\" class=\"dataframe\">\n",
              "  <thead>\n",
              "    <tr style=\"text-align: right;\">\n",
              "      <th></th>\n",
              "      <th>title</th>\n",
              "      <th>score</th>\n",
              "      <th>id</th>\n",
              "      <th>url</th>\n",
              "      <th>comms_num</th>\n",
              "      <th>created</th>\n",
              "      <th>body</th>\n",
              "    </tr>\n",
              "  </thead>\n",
              "  <tbody>\n",
              "    <tr>\n",
              "      <th>0</th>\n",
              "      <td>Let your light shine!</td>\n",
              "      <td>14</td>\n",
              "      <td>pt717k</td>\n",
              "      <td>https://www.reddit.com/r/Anxiety/comments/pt71...</td>\n",
              "      <td>5</td>\n",
              "      <td>1.632316e+09</td>\n",
              "      <td>Congrats /r/anxiety we've all made it to Wedne...</td>\n",
              "    </tr>\n",
              "    <tr>\n",
              "      <th>1</th>\n",
              "      <td>Monthly Check-In Thread</td>\n",
              "      <td>72</td>\n",
              "      <td>pbnr64</td>\n",
              "      <td>https://www.reddit.com/r/Anxiety/comments/pbnr...</td>\n",
              "      <td>235</td>\n",
              "      <td>1.629936e+09</td>\n",
              "      <td>Hello everyone! Welcome to the r/Anxiety month...</td>\n",
              "    </tr>\n",
              "    <tr>\n",
              "      <th>2</th>\n",
              "      <td>Am I a disgusting person?</td>\n",
              "      <td>204</td>\n",
              "      <td>pul1ru</td>\n",
              "      <td>https://www.reddit.com/r/Anxiety/comments/pul1...</td>\n",
              "      <td>51</td>\n",
              "      <td>1.632494e+09</td>\n",
              "      <td>I am 16 and a male and have OCD. I’ll constant...</td>\n",
              "    </tr>\n",
              "    <tr>\n",
              "      <th>3</th>\n",
              "      <td>I'm a grown man and I'm afraid to get my 2nd P...</td>\n",
              "      <td>234</td>\n",
              "      <td>pujh57</td>\n",
              "      <td>https://www.reddit.com/r/Anxiety/comments/pujh...</td>\n",
              "      <td>185</td>\n",
              "      <td>1.632489e+09</td>\n",
              "      <td>The 1st shot I was a mess beforehand. Even the...</td>\n",
              "    </tr>\n",
              "    <tr>\n",
              "      <th>4</th>\n",
              "      <td>God I fucking hate work</td>\n",
              "      <td>44</td>\n",
              "      <td>pusy1t</td>\n",
              "      <td>https://www.reddit.com/r/Anxiety/comments/pusy...</td>\n",
              "      <td>7</td>\n",
              "      <td>1.632519e+09</td>\n",
              "      <td>Work just amplifies my social anxiety to the p...</td>\n",
              "    </tr>\n",
              "    <tr>\n",
              "      <th>5</th>\n",
              "      <td>Took action against my harasser.</td>\n",
              "      <td>21</td>\n",
              "      <td>puvs31</td>\n",
              "      <td>https://www.reddit.com/r/Anxiety/comments/puvs...</td>\n",
              "      <td>3</td>\n",
              "      <td>1.632529e+09</td>\n",
              "      <td>I’ve finally gathered up enough courage to tak...</td>\n",
              "    </tr>\n",
              "    <tr>\n",
              "      <th>6</th>\n",
              "      <td>\"get out of your comfort zone\"</td>\n",
              "      <td>64</td>\n",
              "      <td>puosbq</td>\n",
              "      <td>https://www.reddit.com/r/Anxiety/comments/puos...</td>\n",
              "      <td>8</td>\n",
              "      <td>1.632505e+09</td>\n",
              "      <td>I don't have a god damn comfort zone. I have p...</td>\n",
              "    </tr>\n",
              "    <tr>\n",
              "      <th>7</th>\n",
              "      <td>Does anyone else get bursts of energy where th...</td>\n",
              "      <td>17</td>\n",
              "      <td>puuxof</td>\n",
              "      <td>https://www.reddit.com/r/Anxiety/comments/puux...</td>\n",
              "      <td>4</td>\n",
              "      <td>1.632526e+09</td>\n",
              "      <td>My anxiety has gotten better over the years, b...</td>\n",
              "    </tr>\n",
              "    <tr>\n",
              "      <th>8</th>\n",
              "      <td>Anyone else feel anxiety over every little thing?</td>\n",
              "      <td>8</td>\n",
              "      <td>puwoks</td>\n",
              "      <td>https://www.reddit.com/r/Anxiety/comments/puwo...</td>\n",
              "      <td>5</td>\n",
              "      <td>1.632533e+09</td>\n",
              "      <td>Anyone else have crippling anxiety over everyt...</td>\n",
              "    </tr>\n",
              "    <tr>\n",
              "      <th>9</th>\n",
              "      <td>Does anyone feel like their anxiety is made wo...</td>\n",
              "      <td>171</td>\n",
              "      <td>puf04i</td>\n",
              "      <td>https://www.reddit.com/r/Anxiety/comments/puf0...</td>\n",
              "      <td>22</td>\n",
              "      <td>1.632470e+09</td>\n",
              "      <td></td>\n",
              "    </tr>\n",
              "  </tbody>\n",
              "</table>\n",
              "</div>"
            ],
            "text/plain": [
              "                                               title  ...                                               body\n",
              "0                              Let your light shine!  ...  Congrats /r/anxiety we've all made it to Wedne...\n",
              "1                            Monthly Check-In Thread  ...  Hello everyone! Welcome to the r/Anxiety month...\n",
              "2                          Am I a disgusting person?  ...  I am 16 and a male and have OCD. I’ll constant...\n",
              "3  I'm a grown man and I'm afraid to get my 2nd P...  ...  The 1st shot I was a mess beforehand. Even the...\n",
              "4                            God I fucking hate work  ...  Work just amplifies my social anxiety to the p...\n",
              "5                   Took action against my harasser.  ...  I’ve finally gathered up enough courage to tak...\n",
              "6                     \"get out of your comfort zone\"  ...  I don't have a god damn comfort zone. I have p...\n",
              "7  Does anyone else get bursts of energy where th...  ...  My anxiety has gotten better over the years, b...\n",
              "8  Anyone else feel anxiety over every little thing?  ...  Anyone else have crippling anxiety over everyt...\n",
              "9  Does anyone feel like their anxiety is made wo...  ...                                                   \n",
              "\n",
              "[10 rows x 7 columns]"
            ]
          },
          "metadata": {},
          "execution_count": 436
        }
      ]
    },
    {
      "cell_type": "code",
      "metadata": {
        "id": "VOjbIqa85sTo"
      },
      "source": [
        "created_t=  post_data['created'].apply(lambda x: time.ctime(x))"
      ],
      "execution_count": null,
      "outputs": []
    },
    {
      "cell_type": "code",
      "metadata": {
        "colab": {
          "base_uri": "https://localhost:8080/"
        },
        "id": "VZkgYza47C4C",
        "outputId": "30341c71-fbef-4c9a-a73c-fb3fa2afc8d6"
      },
      "source": [
        "#the top 100 posts used here were posted on 24 September, within the required time duration of 3 months\n",
        "created_t.tail(5)"
      ],
      "execution_count": null,
      "outputs": [
        {
          "output_type": "execute_result",
          "data": {
            "text/plain": [
              "95    Fri Sep 24 19:22:13 2021\n",
              "96    Fri Sep 24 23:07:48 2021\n",
              "97    Fri Sep 24 22:56:10 2021\n",
              "98    Fri Sep 24 22:42:43 2021\n",
              "99    Fri Sep 24 22:39:26 2021\n",
              "Name: created, dtype: object"
            ]
          },
          "metadata": {},
          "execution_count": 11
        }
      ]
    },
    {
      "cell_type": "code",
      "metadata": {
        "colab": {
          "base_uri": "https://localhost:8080/"
        },
        "id": "XOU6drJRtA6_",
        "outputId": "2815f44b-842b-4490-fc98-ee7f9a88f4ae"
      },
      "source": [
        "post_data['body'].tail(10)"
      ],
      "execution_count": null,
      "outputs": [
        {
          "output_type": "execute_result",
          "data": {
            "text/plain": [
              "90    After some research, I have come to the conclu...\n",
              "91    Hello, I am 22 y/o and just started lexapro. I...\n",
              "92    I have had almost constant anxiety for the pas...\n",
              "93    Yeah it's a low dose, 1x per day as needed wit...\n",
              "94                                                     \n",
              "95    Not sure really how to word this but I have a ...\n",
              "96    Every single time im close to a test and it se...\n",
              "97    Does anyone ever want to claw or scratch their...\n",
              "98    Does anyone else here have ocd and is scared o...\n",
              "99    Does anyone get to the point where they’re too...\n",
              "Name: body, dtype: object"
            ]
          },
          "metadata": {},
          "execution_count": 14
        }
      ]
    },
    {
      "cell_type": "code",
      "metadata": {
        "id": "aiGD_AgNs2vz"
      },
      "source": [
        "a = list(post_data['body'])"
      ],
      "execution_count": null,
      "outputs": []
    },
    {
      "cell_type": "code",
      "metadata": {
        "colab": {
          "base_uri": "https://localhost:8080/"
        },
        "id": "MpFGoNSX4RdQ",
        "outputId": "477963f2-514a-46b2-e992-7efc310a0579"
      },
      "source": [
        "# converting list into string and then joining it with space\n",
        "b = ' '.join(str(e) for e in a)\n",
        "# now this is just a long pararaph of text, further we will convert it into lowercase because man and Man is interpreted differently\n",
        "b=b.rstrip().lower()\n",
        "print(b)"
      ],
      "execution_count": null,
      "outputs": [
        {
          "output_type": "stream",
          "name": "stdout",
          "text": [
            "congrats /r/anxiety we've all made it to wednesday!\n",
            "\n",
            "this is a weekly thread that serves as a place for us to shine some light on what is going well in our lives. it is easy for mental health subreddits to focus primarily on the negative, after all we're not here because everything is going wonderfully.\n",
            "\n",
            "but, once in a while you get shown the light in the strangest of places if you look at it right. so whether you made it out of bed today, spoke up in a meeting or class, rode the bus, or just stepped outside please share with us what went well for you in the past week.\n",
            "\n",
            "any accomplishment, victory, positive thought or action no matter how big or small is welcome here! hello everyone! welcome to the r/anxiety monthly check-in thread. we hope for this to serve as casual community chat for anyone who wants to get or stay involved without having to make a full post. you can also use this as an easy way to give us feedback on what you like and don't like about the subreddit.\n",
            "\n",
            "# checking in\n",
            "\n",
            "let us know what's on your mind! this includes (but is not limited to) any significant life changes/events that have happened recently; an improvement or decrease in your mental health; any upcoming plans that you're looking forward to (or dreading); issues you're dealing with in your own local or extended community; general sources of stress or frustration in your daily life; words of advice or comfort you want to share with everyone; questions/comments/concerns you want to share with the moderators and community regarding the subreddit.\n",
            "\n",
            "thanks and stay safe,\n",
            "\n",
            "the r/anxiety mod team i am 16 and a male and have ocd. i’ll constantly be anxious over whether my actions were inappropriate, although what i find is a sense of relief in giving into these urges. for example, i’ll often find myself adjusting my pants to hide the bulge, but when i ignore this and expose myself i feel a sense of relief. it’s as if through giving into an urge i’m freeing myself of that anxiety, as wrong as it may feel. \n",
            "\n",
            "my cousin came over today and i was having a ton of intrusive sexual thoughts, it was actually making me really uncomfortable. we went for a walk and i stopped walking in front of him (i can’t remember why exactly), my mind started making it feel as if through staying in that position i was somehow giving into an urge? the anxiety revolved around this idea of him  somehow having sex with me from behind (i’m straight btw) and it made me feel uncomfortable, for some reason however it felt relieving to stay in that position, despite the discomfort. could this make me a disgusting human being? right now i’m worrying that i genuinely wanted him to bump into me from behind or something gross like that. could there be something wrong with me?\n",
            "\n",
            "edit: i can thank you guys enough for all the support, i really do appreciate it :) the 1st shot i was a mess beforehand. even the xanax barely helped. but i did it. only has a sore arm and woke up sweaty lol. but i hear the 2nd shot is more likely to really beat you up. my dad's 2nd he felt nothing. my teenage siblings felt achey and fatigued. hope i don't get it bad. i'm going to drug myself again and go get the 2nd shot today... work just amplifies my social anxiety to the point where i question how i even have friends. i hate small talk. i hate meetings. i hate having to interact with people when all i want to do is crawl into a hole and be alone. i think all of my coworkers think i’m weird as hell and i hate that i can’t stop thinking that either. \n",
            "\n",
            "fuck i’ve finally gathered up enough courage to take action against my online harasser. \n",
            "\n",
            "i’ve been harassed non-stop by this guy online, and now social media platforms are actually willing to help me. he’s been causing me so much anxiety and grief, now i feel like a giant weight has been lifted off my back. \n",
            "\n",
            "i didn’t have nearly as much courage as i did months ago, now i have as much as possible. i don't have a god damn comfort zone. i have panic attacks alone in my apartment in bed. going to work every day is so outside my comfort zone that all i can do when i get home is collapse in exhaustion. going to the kinds of group gatherings everyone seems to think will help me make friends might as well be skydiving, it gives me that much terror.\n",
            "\n",
            " i know this defeatist mindset makes it worse but i feel just completely out of control of my mind and body. i have such a hard time conveying the constant toll that the oppressive, obsessive thoughts, nausea, agonizing chest and stomach pain, migraines, and hot flashes i get from literally just existing around others take on me my anxiety has gotten better over the years, but i still let “scary” things pile up and then get more anxious about them the more i let them build (y’all know how it is!) but, once in a while, i will get a burst of confidence and knock five things off my scary list at once. for example, the other day i set up a doctors appointment, resolved something with my pharmacy, submitted a maintenance ticket, got an estimate for a car repair, opened an email i had been avoiding, and dug into an intimidating project at work. that’s more than i can typically handle in a month. does anyone else get this? is there a way to harness the power? anyone else have crippling anxiety over everything? i have always been kind of nervous about things and had some anxiety. it’s gotten to where every little thing feels me with fear though. rather it be going out in traffic, going out to eat, having a conversation, or anything. \n",
            "\n",
            "i just signed on with a real estate company. you have to fill out an application and the real estate commission does a background check on you. you also have to get fingerprints. i have never been in trouble with the law, (knock on wood.) yet, i am nervous about the background check. i just always have this fear that something bad is going to happen. anyone else feel this way?  got my 2nd vaccine finally today around 2 p.m. its almost 9 p.m now. just been super tired, a slight on/off headache. i was extremely anxious like with my first vaccine to get it but i went through with it. \n",
            "\n",
            "i just hope the anxiety keeps at bay and trying not to think about side effects etc. i have bad health anxiety and anxiety so it’s hard ugh. i tested positive yesterday… i’m double vaxxed, constant mask wearer but i think i caught it at work as i work in education. \n",
            "\n",
            "tonight has been the worst so far, the combo of waking up wheezing, dizzy, with a temp sent me into an anxiety attack, even harder to regulate my breathing. ive finally started to calm down, my blue inhaler has helped my asthma and i have music on.\n",
            "\n",
            "i’m not necessarily looking for solutions, maybe just a place for folk to share or vent. i must say i’m quite scared. i’m having flashbacks to the worst things i saw on tv earlier in the pandemic. i don’t want to end up in hospital. i finally stopped crying 15 minutes ago and i’ve barely cried at all since being on sertraline. \n",
            "\n",
            "anyone got an experience or two to share? anyone relate to where i am with it? hope that’s ok to ask! also apologies for formatting, i’m lying in bed on my phone.  i don’t think my bf is actually doing anything to cause these triggers but being in the mindset of a relationship has really brought them out for me. i’m forced to constantly meet new people around him and try to make a good impression, i often compare myself to women because i’m not exactly his type, and i feel like it’s another burden on me to make someone else feel loved when i’m having a hard time loving myself. i’m not sure what to do because i love him and love spending time with him but lately it’s just been awful dealing with my anxiety. anyone else? hey yesterday evening, i think i was in a situation where i was going to be robbed and possibly assaulted in some type of way. it put absolute fear into my heart, because  if it wasn't for my dog i think i wouldn't be having this conversation with you guys right now.  i've never experienced harassment or ill intentions from a person before, and having my space bombarded and my sense of safety taken from me put me in a mindset i've never been in before. i decided to record a podcast episode just talking to all the females out there that have or is experiencing such thing as harassment or abuse. the therapy i received by telling my story and bringing some type of awareness to assault, gave me this relief. i don't know if this is allowed, but i just  wanted to share the link in case it could help anyone here. ❤\n",
            "\n",
            "https://youtu.be/t_zqxrppnhu hi everyone. \n",
            "\n",
            "i was prescribed hydroxyzine(50mg) and zoloft 25mg to help treat my anxiety. i have crippling health anxiety so i’m really scared to start this. i’m thinking of starting off with the hydroxyzine to help me sleep… but i’m seeing people say it made them dizzy…. as someone who struggles with off balance/dizziness(don’t know the exact cause,but doctors say it might be stress related) i’m kinda scared it’ll make it worse. \n",
            "\n",
            "\n",
            "anyone who is or has taken hydroxyzine- has this made you dizzy? any other side effects? i have struggled with panic anxiety disorder and ptsd for a while now. in 2013 i got a really bad panic anxiety attack and thought something was wrong with my heart. that year there were a lot of visits to the emergency room, hospitals and my doctor. they suspected something could be wrong with my heart, and had to have a 24h ekg a couple of times, and they did an ultrasound of my heart. nothing turned up, and my heart was healthy. no one thought to suggest that it could be anxiety, so i went on with my life and it stopped for a while. turns out i had a lot of minor anxiety attacks after this, and then it got really bad again in december last year. this was hands down my worst panic anxiety attack ever.\n",
            "\n",
            "\n",
            "\n",
            "since then i went to a see a therapist. we found out that a lot of my anxiety attacks were because how my then stepmom treated me. she was verbally abusive all the time, and in some cases she was even physically abusive. this is were my ptsd stems from. i would for example get anxiety attacks if someone opened the door too fast (like she did, because that sound meant she was coming to scream at me). for a while i thought the root of my anxiety was her, cause i get really stressed if i think i'm doing something the wrong way etc. so i knew the ptsd and the fear of doing something the incorrect way was because of her, but i still felt something was missing. it didn't explain all of my anxiety.\n",
            "\n",
            "\n",
            "\n",
            "recently i discovered that the root of my anxiety is my dad. that was when everything clicked in place. my mom said i have always been an anxious kid. the most annoying thing was that i always had to go to the bathroom no matter where we were and what we were doing (when my stresslevel is really high, i have to go to the bathroom really bad and often). \n",
            "\n",
            "my dad always put work before anything else. so from when i was around 4 years old, my dad would go to work before i usually woke up and come home late at night when i was asleep. if i wanted to see him, i had to wake up without an alarm clock or without my dad waking me up. i remember i always woke up in a panic and was really afraid that he was gone and would get out of my bed as fast as i could, run down the stairs and look out the window to see if his car was gone. if the car was gone, i would just cry hysterically for a really long time, and there was little my mom could do to calm me down. he was usually home on sundays but he didn't really spend much time with me.\n",
            "\n",
            "when i was 6 up to 7 or 8 years old, before my parents slipt up, he would sometimes drive me to school and my siblings to kindergarden. i remember i just wanted to talk to him when he did this, but he was always on the phone the whole time and told us not to interrupt. i would often get so mad that i just walked away from him and walked to school myself. it took him a while to notice i was gone. if i didn't walk away, he would usually forget to drop me off at school (i was the last kid he would drop off), so he just drove right past it while on his phone. then he would get mad at me for not reminding him that i was still in the car.\n",
            "\n",
            "\n",
            "\n",
            "when i was around 8 years old, my parents had split up and he was living by himself. we would spend time at his place every other weekend and every thursday. but those days were often cancelled because he had to work or just wanted to go out partying instead of spending time with us. when we were there, he was usually talking on his phone due to work, so we wouldn't really get to spend time with him. i would often get so mad that i ran away, and would often find a spot where i could see the road to see how long it would take before he noticed i was gone and went out looking for me. it usually took around an hour or two.  \n",
            "sometimes my dad would take us places, but it was usually because he was doing activities with his friends (often paintball), and we just had to sit and watch them play for a couple of hours, and then he was back on his phone.\n",
            "\n",
            "\n",
            "\n",
            "when i was 9, he got together with my then stepmom and quickly moved in with her and her two kids. her kids always ruined our things, ran after us with swords or knives and just generally hurting us (her son for example broke my sister's arm and knocked out a tooth). our then stepmom started to verbally abuse us pretty quickly and i told this to my dad several times. he refused to listen and just told me that i was exaggerating or that i just misunderstood the whole situation. i remember my mom eventually set up a meeting where my dad had to show up so that i could voice my concerns. he got really angry, said that he refused to listen to it and just stormed off. after this my dad told me i had to apologize to my then stepmom and needed to be nice to her. i had to live with them until i was 18 when i moved away. from i was 9 to 18 i tried several times to tell my dad how my then stepmom was but i was shut down as quickly as all the other times i did. in this time period i also tried to tell my grandmom (my father's mom) what was going on, but she too refused to listen. when i told my friends about the situation, or my boyfriends, they all said i was exaggerating and refused to believe me.  \n",
            "in my teenage years i got pretty wild, and could pretty much do whatever i wanted without my dad questioning me why i was out all night or what i was doing. i could come home drunk and he wouldn't do much about it. i realize now that this was pretty much a cry for help and trying to get him to notice me.  \n",
            "my then stepmom would also be verbally abusive right in front of him, and he would just ignore the situation and didn't do anything about it.  \n",
            "i moved out when i was 18, but my then stepmom and my dad was my boss, so from 18 to 20 years old, i had to deal with her while i was on work (i needed the money).\n",
            "\n",
            "\n",
            "\n",
            "so i realize now where my insecurities come from and why i have anxiety and why i had the need to be noticed or acknowledged. now i get a panick attack every time my stresslevel goes up and i can get a panick attack from pretty much anything, not just specific things.   \n",
            "from 20 years old to now, 28 years old, he hasn't been good at reaching out, asking me how i'm doing and stuff like that. i rarely see him and i rarely speak with him. i realized all this for just a couple of days ago. i have now decided to cut him out of my life, based on something that happened this week. last week he said he was coming to my town for a job meeting, and he made plans to go out to eat with me while he was in town. two days before he was supposed to come to my town, i saw on snapchat that he and his family (his new girlfriend and their two kids) was traveling here. i didn't hear anything from him the first day they were in town, and i didn't hear anything from him the second day either. and then i saw on snapchat that they have gone home. i didn't hear a word from him. we had plan for the next day and i knew then that our plans would not happen (as usual. he often comes to my town for job meetings but never think to let me know, and the few times he does, he cancels on me). then the day came, and i heard nothing. today i got a message from him where he straight up lied to me, explaining that he hadn't traveled to my town and that the travel was cancelled because of the storm (the storm came in the afternoon the day we had plans, not the two whole days while he actually were in my town).\n",
            "\n",
            "\n",
            "\n",
            "i honestly feel really angry and disappointed at this moment. i've decided to cut him out of my life cause this is too toxic for me, and he doesn't respect me. i've also discovered that he has been talking trash about my fiancé, whom he has met briefly a few times. i've realized that after 28 years i'm just done trying to get my dad's attention and affection. i'm just done. and i realize that this means that i will probably lose contact with my grandmother, because she thinks my dad can do no wrong and refuses to listen if we tell her something she doesn't want to hear about him. this whole situation has driven my anxiety to go haywire.   \n",
            "sorry for the long post. i just had to get it out.  \n",
            "\n",
            "\n",
            "has anyone else been in a similar situation? i would love to hear it, or just general advice cause at the moment i feel like i'm being a huge asshole for doing this. thanks. so i’m doing pretty well these days. \n",
            "\n",
            "i kicked depressions ass, and anxiety isn’t destroying me like it used to. \n",
            "\n",
            "i’ve gone through exposure therapy and it’s done wonders. \n",
            "\n",
            "one last step though. \n",
            "\n",
            "my therapist told me to get on a dating app and meet up with women. (because they’re kind of the ultimate thing that stresses me.) \n",
            "\n",
            "i get along fine with girls and i know some find me attractive, it’s just, until now shyness made dating impossible. add my fear of intimacy in the mix of and here i am a 23 year old virgin.\n",
            "\n",
            "but let’s forget about sex, for now. i should focus on dating and having a good time. the rest will come. \n",
            "\n",
            "but this is terrifying. so i guess i’m asking you for tips ? \n",
            "\n",
            "i’m not asking for dating advice, but how to i find the courage to do this ? \n",
            "\n",
            "peace ! i deal with anxiety on a daily basis. its nothing new for me, sometimes its easier to cope with sometimes i can't eat much because of it. tonight i start my new job and holy smokes am i anxious! i'm worried but excited. worried because i haven't worked in this environment before and maybe ill make mistakes, excited because its a new start for me and i know working will benefit me a great deal! \n",
            "\n",
            "sometimes the bravest thing we can do as people who suffer with anxiety is face our fears head on and come through it with a new sense of confidence! lets show anxiety cannot hold us in its grasp, face it, conquer it, own it! \n",
            "\n",
            "have a lovely weekend guys. i hope i do well in my new job. i hope you reading this can face one of your fears today!  i can't stop overthinking and analysing things i've done in the past, i can't stop worrying what other people think or tell about me. how to deal with it? will everything be okay? i feel so lost with my life. i feel like a failure. i feel like i’m running out of time has anybody here actually tried using it!?? edit: ok guys im going to stop complaining and im going to get all the week's work done now and im going to study for my exams woooo uh im going to post on this sub again next week and be like, i got my grades up. \n",
            "\n",
            "i've always been an a student, my entire life. now im a senior in hs. so i started taking classes at community college in the mornings, i take three classes there per semester, psychology, public speaking, and personal finance. god they are so hard i have b's in two of them and a c in one and its stressing me out so much when my parents find out theyre going to go insane and im so worried\n",
            "\n",
            "i also work as a freelancer so i have to write around 10k words in research writing/marketing a week, and i also have highschool full time, and also i got hired at the grocery store and im going to be working 16 hours a week starting next week and i love that im doing all this cause i need money but it is absolutely at the expense of my grades and im caring more about making money than good grades now. honestly, i dont care about school at all anymore. which is a feeling ive never felt because ive always been so worried about it. now i cant bring myself to try cause it seems useless anyways. grades are dumb, but then seeing that i have bad grades is worrying me so much and idk what to do\n",
            "\n",
            "i think im going to use it as a motivator to try realy hard on my next few assignments and bump up my grades for all those classes, but still, im really stressed out about it and i had to rant lol i’ve been experiencing fatigue for the past few weeks that’s been hard to shake off. it seems right around 3-4pm i start to get really tired and just want to nap the rest of the day. i’ve been pretty stressed out and anxious lately, so i’ve been hoping it’s just related to that.\n",
            "\n",
            "does anyone else get fatigue from stress and anxiety that lasts weeks? so i’m 15m, living at home. i took a shower and when i got out i heard that my sister and at least 6 of her friends that i haven’t met are playing monopoly (they’re all loud) and there’s no way i’m walking past it because i’ll have to introduce myself to all of them and i can’t have that many eyes on me, it’s just not gonna happen, i can’t do it right now because i’ll break down and cry. is there anything my mom could say if i text her to get them to either leave or go to another house so i don’t have to camp out in the bathroom, without it seeming like she’s just kicking everyone out? idk what to do this sucks because i was about to make it back to my room before everyone got here i was expressing how i’m not even scared of what my anxiety says i should be scared about, i’m just scared of anxiety itself. i have anxiety about having anxiety. and she told me, “most people only find out they have anxiety because they end up in a hospital thinking they’re dying… it’s completely normal to be afraid of a feeling like that.” it blew my mind. i always viewed anxiety as being stupid. like i felt stupid for being afraid of something so simple like walking into a grocery store, but really, it’s not stupid. it’s a terrible disease. you’re valid in your fears. i love y’all, stay strong in your battles ♥️ wish i could just walk straight. say yes or no. make a decision and stick to it. i feel so cold. i don’t talk to people. i just go to work and drone on like i’m not even there. there’s so much going on in my head and i just don’t understand right now. i resent everyone yet i long for connection. wondering when the good news comes that this life is all just a joke or something because it doesn’t feel real anymore i have the most amazing and incredible boyfriend [18m] in the entire world. we have been together for 15 months now and i love him with everything inside me. i have never felt this much love for someone in my life. the longer that we have been together, the more i’ve realized how much i want to spend time with him. if we could hang out every day, i would honestly be the happiest person. \n",
            "\n",
            "when we aren’t together, i have this crippling separation anxiety. i’m okay for about 24 hours without seeing him  before i develop the physical symptoms of anxiety, resulting in nightly crying sessions and a stomach that’s tied up in knots. \n",
            "\n",
            "i didn’t realize how insecure of a person i am until i realized how head over heels i love i am. he said no to hanging out today so he could have a family night and i immediately started blaming myself thinking that maybe something i said earlier has made him not want to see me. i’m so afraid that if i’m overly affectionate or overly romantic that he’s going to stiff arm me (even though that’s something he’s never done before). so i’ve caught myself pulling away from him and that is the last thing i want to do. \n",
            "\n",
            "does anyone have any advice for me? how can i cope with this anxiety? i already took my anxiety med i'm waiting for it to kick in.\n",
            "\n",
            "i feel like crying. \n",
            "\n",
            "it isn't an \"end of the world\" diagnosis but after recently suffering a saddle pulmonary embolism i just cannot take another health problem right now. i'm only in my 20s i shouldn't be dealing with this.\n",
            "\n",
            "please any support or hugs would really help i’m not too sure anyone will see this, even if no one does, i just need to get this out of my brain. \n",
            "\n",
            "my family has known for about a year my mom has stage 4 colon cancer. 2 days ago she took a big step by having a surgery to have the tumor removed. but they also noticed it’s spread more into her liver than before. and a week prior they had found nodules on her lungs as well. the doctors are trying to decide on if they should put her back on chemo (one of her doctors thinks they should and the other disagrees saying it would be too much for her body to handle). or just let it ride it’s course and give her the best life we can with whatever time she has left. \n",
            "\n",
            "my sister has been a huge help in taking care of my mom and being at the doctors with her because i work 2 jobs and she lives at the house with them. i’ve called out of work before so i can be there, but then work gets upset if i’m gone too much. and then i feel guilty for my sister having to do so much and i feel like i know nothing on the situation because i don’t have the chance to be there. but then i feel bad not being at work or work gets upset i’m not there. trying to be with my family, work 2 jobs, and try and just maintain some sense of balance is getting to be so hard. i have no motivation for anything left in me. i want to be helpful to everyone, but i also just want to be alone so badly. \n",
            "\n",
            "i’m not sure what the point of this was. i just know i needed to get these words out, but i have no close friends to talk to. so i’m sorry to anyone who had to read this. but if you did read it, i truly thank you and i hope you had a good day today. howdy.  i’m 42.  i asked my doctor to help me with anxiety.i was first given clonazepam which i felt made me a bit sluggish. i would take a 0.5 pill once or twice a week. \n",
            "\n",
            "i asked if there is anything less sleepy and was given lorazepam.  couldn’t feel much of a difference but boy did i feel sad and depressed the next day. just very sad and hopeless. \n",
            "\n",
            "i decided that lorazepam is just horrible for me.  i like to enjoy a drink or two during the week and i make sure to not take any meds if i know i will have a few drinks.  \n",
            "\n",
            "anyone else experience these severe downs with lorazepam ? just thinking about my job interview last week, i feel super discouraged...i'm not out going, cheerful, or out spoken and engaging....i feel like i'll never be able to find a job...because even if i do apply and get an interview, my anxiety will take over and i'll preform horribly during the interview...i just checked on the job website i use, and i saw i got \"not selected\" on the job i interviewed at...\n",
            "\n",
            "i know i shouldn't be this depressed or discouraged about it (people get rejected for these things all the time), but to me, this meant a lot to me. this was my first time doing this job stuff outside of school, and it just feels so discouraging that i'm not good at talking, and im assuming that's what made them not like me at the interview...\n",
            "\n",
            "i can't get past it. i'm supposed to job hunt again after finding out if i got selected or not, and since i just saw i wasn't selected, i know i should look again, but i cant....i feel so sad about it. thank u everyone in this subreddit for all of ur good advice and empathy. it’s nice to read that other people go through the same things as i do <3 there's just something that's so comforting about lighting a scented candle or having a small light on in the room at night. my anxiety seems to be worse right before bed, so stuff like this seems to help.  sometimes just overthink my specific actions and mistakes.\n",
            "\n",
            "also, tend to be to complacent with the others. \n",
            "\n",
            "“i am enough”: those words might be vague, but applying it in specific situations of anxiety really had made a big difference. just feel free of being/acting because you are remembering you are always trying to improve.  \n",
            "\n",
            "i've been hiding the fact that i've been unemployed and living with my parents from my friends, and the rest of my family for the last 8 years. the only people that know the truth are my parents, my 2 siblings and their respective partners.\n",
            "\n",
            "i've been depressed and anxious since i dropped out of university in 2013. i have been diagnosed with moderate depression and have been on and off of ssris, they helped with my general mood and make the days where i have to force myself back to sleep over and over because i don't want to be alive come less frequently. but they didn't fix my problems on their own so i gave up on them.\n",
            "\n",
            "i get anxiety attacks if i have to leave my comfort zone at all, i'll start sweating and my stomach will tie in knots if i have to go to the bank or the post office or anything, and i'll talk myself out of going. this has prevented me from working, my parents ran a cafe and tried to get me to come in and start working from a comfortable place, before they sold it recently. i tried countless times to get up and go in, on the days where they really need my help and practically beg me to come in and help, and on days where nobody knows i'm planning on going.\n",
            "\n",
            "over the past 8 years i've managed to show up maybe 10 times, each time i get my and my parents' hopes up that maybe this was the step i needed to get me out of my rut, and the next day i dissapoint everyone and cant come in.\n",
            "\n",
            "the shame and disappointment in myself after makes me want to hide away from everyone, my parents especially, which is very difficult when i live in the same house as them. so when i wake up in the morning i force myself to sleep again over and over until well past midnight when i'm sure everybody is asleep in the house. only then do i emerge from my room, eat the dinner that was left for me in the kitchen, sit on the computer all night and go to bed before everybody gets home from work. i can keep this up for weeks at a time, living with an upside down sleep schedule to avoid everyone.\n",
            "\n",
            "that's what my parents and siblings know my life to be, my friends don't know any of this though. they think i \\*do\\* work with my parents, and most nights i'll play video games with them and talk over discord. maybe one night every couple of months i'll even manage to go out with them, if i don't have an anxiety attack beforehand and make up some bullshit excuse.\n",
            "\n",
            "when i was on sertraline it improved my general mood, but my day to day was still just waking up in the morning, spending hours on reddit/youtube/video games until i \"get home from work\", at which point i would change all of my accounts from \"appear offline\" to \"online\" and carry on until i go to sleep, then repeat the day. the real problem was still there, so i gave up on the ssris.\n",
            "\n",
            "i've tried councilling a few times, each time paid for by my parents, and every time i go to the first few sessions, then wake up anxious about the session and force myself to sleep through the day and miss the next session. i never end up going back.\n",
            "\n",
            "i feel like i've gotten too good at avoiding the shame i should be feeling for living my life like this.\n",
            "\n",
            "as far as everyone else knows i'm a normal person living a normal life, when really, i've spent the last 8 years in my parent's house, leeching off of them. they think i'm a regular person, when really i'm a parasite and everybody's life would be better if i never existed.\n",
            "\n",
            "i don't know if i can keep up this lie, i don't know if i should keep up this lie\n",
            "\n",
            "i don't know what to do with myself. i don't know how to pull myself out of this hole i've dug, i don't know how to start living a normal life, i don't think i can start living a normal life. everything would be better if one day when i force myself back to sleep i don't wake up again, and everyone can eventually be happy that this parasite on my family is gone. i’ve always had bouts of anxiety throughout my adult life, and i never understood what triggered them and why. at the time, i felt a bit lost in what to do about it or even how to understand it. a friend suggested that i start journaling daily to recognize the times that would trigger feelings of anxiousness. \n",
            "\n",
            "using a journal helped me to create a clear structure for working on my anxiety and stress management. i like to think of it as a personal trainer for my brain! just a trainer would encourage you to complete those extra push-ups, a journal can encourage you to make mindfulness exercises a daily habit and works as a visual reminder. \n",
            "\n",
            "my personal findings were that i seemed to get anxious when either a large social or work occasion would occur. the day before the occasion, and the day of the occasion, i would note in my journal of feeling stressed, overwhelmed, and in some cases trying to avoid attending the event altogether. \n",
            "\n",
            "i still use a journal today, but only write down a few short words at the start of each day to express how i’m feeling (e.g. excited, nervous, challenged) - i might add additional sentences on these feelings. this forms part of my daily check-in. for the rest of the daily page, i include my daily tasks and appointments. for me, this makes it much easier to stick to daily journaling.\n",
            "\n",
            "while a journal for myself worked as a tool to help with my anxiety, it may not work for everyone. a journal can’t replace therapy or advice from a professional, but it can form part of a positive daily habit to help understand yourself better and to boost your well-being.\n",
            "\n",
            "i’d be interested to know if anyone else has experience of using a journal for anxiety, and any tips that you might have. i am getting my first vaccine today, and i am beyond scared. my ocd is going absolutely mad. i am nervous for an allergic reaction even though i’ve gone over the ingredients a million times. i’ve googled them, researched them, found products like food and stuff i use every day with them it in, and yet i am still nervous. the anxiety is making me have a bad headache and feeling sick to my stomach. i’ve already cancelled once and i don’t want to cancel again. i need this shot. any tips? i cant tell if i have palpitations from my first dose or if its just my anxiety most of the day my health anxiety is awful, and i can’t function and will often have to lay down in bed. but there will be small windows where i feel the most normal i’ve felt. like in that moment i was ‘cured’. sometimes it can last for 30 mins or an hour, but i love that moments. and just wish i felt like that all the time rather than housebound or bedridden. i’ve been struggling with gad for awhile now and have a therapist but she recently told me i had to think of with some coping mechanisms myself that resonate with me for when i get really anxious. we’ve come up with some in therapy like yoga, meditating, and journaling, but i’m not the best at sticking with them. i’m able to do basic ground techniques and stuff but i’m looking for suggestions for more long term coping mechanisms to help when my anxiety gets really bad i guess? \n",
            "any suggestions would be greatly appreciated. the lowest dose of lexapro, 5mg, gave me quite bad ed and genital numbness, when i stopped, it persisted for a week. along with some pelvic/testicle pain. \n",
            "\n",
            "so do i have to either choose my mental health over my sexuality? i’ve noticed more and more that when i’m looking at something, i’m never actually focused on it.\n",
            "\n",
            "i can be staring at a pencil for 5 minutes but not a single second out of those 5 minutes is actually focused on the pencil. a friend and i bought fast food and ate on some steps but he sat right next to me, pretty close, and although he’s my best friend and my roommate i just felt uncomfortable while both of us were eating and sitting that close. i said “would you mind moving over a little” and he said he didn’t wanna block the stairs too much and i mentioned that i feel uncomfortable sitting too close to people when eating sometimes. he knows i have anxiety so i explained a little bit but i feel like i offended him as he was pretty quiet for a while after that. \n",
            "\n",
            "i feel like it isn’t all the time or with everyone, but i don’t like the thought of someone eating and talking and possibly spitting into my food, i start thinking about contamination or eating pieces of their chewed food while i’m eating mine. \n",
            "\n",
            "is this something other people experience? in the past year i’ve noticed that i talk to myself out loud when i’m really anxious or mad at myself. it’s very critical talk to myself, usually my inner thoughts that are worded as if i’m saying it to somebody else. the most common one is finding myself saying “stupid fucking bitch” “you’re such a bitch” over and over again quietly, or loudly depending how mad i am. i notice my thoughts are racing as i’m talking to myself, so i don’t even realize i’m saying it out loud. this is usually all when i’m alone, but more and more i find myself doing it at work or at the store. \n",
            "it’s embarrassing, i’m well kept and care more than i should about what people think of me… so whispering to myself “stupid fucking bitch” over and over without realizing it makes me seem pretty insane. \n",
            "does anybody have cbt or dbt skill advice to help me with this? diffusion helps me with intrusive thoughts but doesn’t seem to touch this weird shit i’m doing. so with my anxiety it’s been really hard to read, which aside from struggling to read books is difficult because the video games i’m playing at the moment are very text heavy. video games are typically some of the best anxiety reducers for me so i was wondering if anyone has any advice. i already 100 percented a few platformers that i played instead to try and ease myself back into it and i just want to get back to what i really enjoy.  hi everyone.. question.. at what point did you notice you needed to go up on lexapro or another anxiety med? did physical symptoms come back? i just upped my dosage, but i haven’t felt a change yet.. when i first took 10mg of lexapro i started feeling better the next day. i’m on night 2 of 20 mg and my anxiety feels worse :( any advice hey y’all,\n",
            "   first time poster in this subreddit, long time lurker. i’m writing this because i’m seeking advice and/or suggestions on what i can do to turn myself around.\n",
            "   my initial thoughts of how my dark thoughts and outlook on life started is when my parents got divorced around the time i was 7. leading up to around my hs graduation and even sometimes now, my parents would leave me in the middle of their situations and use me as leverage in court hearings. my parents have been very heavy drinkers ever since i can remember and one scarring even that i remember from my parents is when my father threatened suicide by cop while i was in the house during one of his heavy drinking phases. till this day both of my parents drink heavily and i feel little to no remorse for them anymore as i tell them that their bodies will no longer keep up with the abuse. \n",
            "   my hs school years were not horrible as i had a girlfriend from grades 10-12, all star athlete, worked a part time job, and graduated top 10% of my class. there are several things through hs that i regret and wish i could turn around: 1) get my license(still don’t have like a dumbass) 2) getting a girlfriend. my girlfriend and i had several breakups, countless arguments, and continued the relationship for way longer than we should have. we broke up on bad terms and it is something i regret to this day, but more emotions would spark if i apologized rather than leaving it be and letting her live her life. the breakup occurred around the middle of my senior year and shortly after was my first experiences with marijuana. \n",
            "following my breakup, i took a look at myself in the mirror and hated what i saw. i am 6’3 and at the time of the breakup i weighed 270 pounds. currently, i am 185 pounds and have maintained this weight for several years now. i thought by losing the weight i would gain confidence and energy, but this hasn’t been the case. this led to my marijuana abuse in my freshman year of college. i made friends, memories and quite a bit of money through weed in my freshman year but it drained me even more than the weight loss. leading into my 2nd year of college, i quit using marijuana for about 6 months and as a result i lost all of my friends. through this period, i had a lot of trouble maintaining my anxiety(something i should see a therapist about) and just finding things to do or enjoy. \n",
            "   i would consider two people my friends and they aren’t even people i can talk to about anything an can rely on for advice. i have trouble relaying my thoughts to them in fear of them not understanding my circumstances or just simply not caring. i find it hard to find people with similar interests as me in my area. all of my hs peers seem to either be engaged/pregnant, brainwashed by leftist-college propaganda, or trying to become the next big social media influencer. i become very lonely when i can’t share my interest in a certain subject, talk about commonalities, or drive around and go do something. \n",
            "   currently, i have just started my junior year in college and am quitting marijuana again, but not because of abuse of it, i just feel the need to quit uplift my mood. i know i should probably seek a psychiatrist to pinpoint my anxiety and need to get my license as it makes me feel like a complete failure that i don’t have it at 20 years old. i feel like a idiot for even writing this, but i have no one to talk to in regards of advice and wanted to get all of this off of my chest. \n",
            "   i just feel like i have wasted the past 6 years of my life and will end up like my parents. i would like to enjoy the feeling of not being an outcast or loser in my mind again. i have never seen suicide as a solution to any problem and i would hate to see myself become addicted and brain dead through antidepressants, but i feel like the things i enjoyed in the past to reduce stress just make me more frustrated and annoyed with life. \n",
            "\n",
            "(if you have any other questions feel free to ask because i know this isn’t the best format or use of punctuality/grammar. it’s just hard to express my feelings into words) i'm (almost) 17 and for the first time in my life, i'm independently on public transportation. it's exciting and absolutely nerve-wracking. autism and anxiety have kept me pretty dependent on parents for public interactions. a middle school-looking kid just got on, probably routine for them with school and whatnot. i'm a high school and don't want to learn to drive. sure i'm a bit late with a bunch of things expected of people, and mom still bought the ticket for me. but hey, i'm proud of myself!!! i’m so nervous i’m gonna do something wrong how tf am i gonna do this . hi everyone, \n",
            "\n",
            "i’ll start off by saying that my sleep schedule is absolute shit at the moment. i feel like i use my phone in bed so much because i feel like i’ll starve off the anxiety so i’m sleeping around 3am and these incidents make it so hard to stay asleep. \n",
            "\n",
            "what i’m experiencing is weird , you know that gorgeous feeling just as you’re falling asleep, i’ve been feeling like zapped out of it. sometimes i feel like i can’t breathe and my heart starts pounding, other times it feels like a switch in my brain saying “nope wake up”. it’s hard to explain. \n",
            "\n",
            "it’s incredibly annoying and strange - the most bizarre thing was yesterday, it literally felt like someone hit me in the head. i always worry that this means i won’t be able to sleep again but i always fall asleep in the end. \n",
            "\n",
            "is anyone familiar with this? maybe it’s the mixture of anxiety and sleep deprivation? it was group therapy. there were other people.\n",
            "\n",
            " here's how it went.\n",
            "\n",
            " people were going around saying introductions. when it came my turn, everyone looked at me. i hate it when people look at me. it's the worst.\n",
            "\n",
            " i tried to say my intro but it was so hard. i didn't even have to say that much stuff. just like 3 very simple things about myself. but i still couldn't get the words to come out. like. it felt like my body just wasn't letting me. i just said \"i.. uh... um..\" and i felt the tears coming to my eyes. so i just cried in front of like 15 ppl and just got myself to say this,\"i cant talk\". \n",
            "\n",
            "i had a panic attack too.\n",
            "\n",
            "i feel so stupid bc of this. everyone else there was so friendly and they seemed so.. extroverted. they talked a lot... and i'm the fucking loser over here that's so anxious where i can't fucking say what my name is! i couldn't say anything at all ! i dreaded the whole time. i hate this.\n",
            "\n",
            " they had to put me on meds bc of how high my anxiety was. started the meds today and they're extremely effective and are said to do something in a couple of days \n",
            "\n",
            "\n",
            "\n",
            "i want to leave  that therapy group forever. i don't wanna ever come back. i am struggling with severe anxiety and panic attacks. i feel like my family doesn’t support me at all. i always get the “just calm down” responses from them. these are my in laws considering that my actual blood family (my mom; my dad passed away) responds the same way as well. i am having a hard time with day to day things… even going to work. i do my best to hide it but today i really broke down. and the responses that i am getting are hurting me even more. “oh my god…why are you crying now?” “what’s wrong now?” “i don’t know what to say anymore” these are the people i look towards for support because they are the only people i have. i don’t have any friends which is sad at my age (31). sometimes i just don’t have anyone to talk to..or be a friend….i feel like i am on my last straw here with my panic attacks and anxiety…..i feel like i am crying out for help with no support besides myself…..i can’t do this anymore….. i was invited to a friendly get together by some acquaintances. i knew from the beginning i’d be acting weird and not be able to vibe with everyone & they would all notice..\n",
            "\n",
            " i went anyway because my brain tells me it’ll all play out differently this time. it didn’t. i wasn’t saying a word and what made it worse was everyone was smoking marijuana and when i got a hit of weed i instantly felt panic. i couldn’t hold it together and this older guy much taller and much more talkative than me said out loud “are you good??” then looks over at who i came with and asked “why isn’t he saying anything” and i just smiled and laughed a bit to play it off. \n",
            " \n",
            "well as the party progresses he kept looking over at me like it bothered him. he later approached me and asked in a loud voice “do you not like me? what’s your problem” because i felt scared and kept looking over at him to see if he would attack or something. irrational fear. \n",
            "\n",
            " he later approached me again when i was alone on the couch after my friends went to go outside to do something with the group…\n",
            "\n",
            " he grabbed me and lifted me up and took me to the front yard and sat me down then slammed the front door and locked it.\n",
            "\n",
            " i just ended up walking home after that because i was fearing for my life. about 40 minutes later my friend called me and asked “dude where’d your go?” and i just told him i walked home because i got a call from my mom. \n",
            "\n",
            "i’ve never felt so bad in my life but after that i felt like my balls grew a bit. like the worst thing that could possibly happen just happened to me and therefore i felt no fear of it happening again. so i dug myself into a big ass hole at 5am today, and it’s concerning my rheumatoid arthritis. i don’t know what caused me to do such a thing but now i’m in a state of panic aha.\n",
            "\n",
            "i’m just worried about cardiac issues (especially with the palpitations i’ve been having lately) but have always been told my heart is healthy and my cholesterol is perfect and probably the only thing that’ll kill me is my panic disorder. i’ve seen my doctor recently too, but my hypochondriac brain tells me to never really trust it. which i do, trust my doctor. it’s just hard. \n",
            "\n",
            "how do you stop from going down a rabbit hole and looking things up? im going through a bit of a rough phase after a breakup, and im having a lot of trouble when it comes to sleeping. i exercise almost everyday and try to relax by the time i go to sleep, but when i finnally close my eyes, the anxiety kicks in and is very difficult for me to actually sleep. any help with this? i’m tired of constantly overthinking what people are thinking of me. i always try to be myself and love myself but i still just get worried of what other people (particularly people i’m close to) are thinking of me and idk how to stop it i have to drive nearly everyday and i don’t know how much longer i can do it. driving gives me the worst anxiety, and i’ve even had panic attacks on the road. i’m awful at parking, i feel embarrassed when i have to correct myself, i feel like other people actively avoid my car on the streets, and i’m deathly afraid of car accidents. worse, i live in albuquerque where everyone seems to drive with some kind of malicious intent, but i need to drive in order to get to and from school. anyone else have driving anxiety? or at least slow them down i \\*only\\* get healthy anxiety as a result of physical pain. i recently had a 24 hour holter monitor done, a bilaterval leg scan thingy, a chest ct, to check for a pulmonary emoblism or dvt because i had a slightly elevated (95) d-dimer level and they all came back clear. i had my heart checked out 5 years ago and there was some benign anomaly or some sort. i've had other sorts of tests before too, a breast ultrasound even though im 23, and i think the thing i think is chest pain is fibryocystic breast stuff.\n",
            "\n",
            "i don't have the kind where you think  you have some type of rare disease when you stub your toe. i think i have a heart attack constnatly, because i get jaw and left arm pain a lot and breast/chest pain on rare occassions. now that i've gotten that d-dimer level back, which was just because of a routine check-up screening, i've been just a wreck.\n",
            "\n",
            "i was voluntarily hospitalized and stayed there for 2 months at one of the best facilities there is. i appeared to get better, but they did nothing to help my anxiety, i begged them for help and no one did anything, i'm not even exagerrating. it was all focused on depression and suicidality (which i don't have, i do have depression but not the other one). i got better because i was checked on every 15 minutes. then i left and slowly got worse and worse. it helped my depression because i was in a community for once, but as soon as i left none of them wanted to be friends depsite sharing like deep af shit. i can barely afford another hospital and anywher ei go will take my phone and i need to be able to talk to my girlfriend.\n",
            "\n",
            "i've 20 therapists, most of them drop me and it's devastating, or are just so terrible i can't see them anymore. and all everyone fucking does it just try to do breathing exercises or tell you to accept it. i haven't heard a new piece of advice in a year. i've had like 7 psychiatrists and can't find one that has time for me or takes my insurance. and been on like 15 different meds at least. and i can't stick to taking meds because i have crazy side effects that make my hyponchodria worse. but i was on like 6 different meds at once at the hospital and those didn't even work for the anxiety. i tried a 10 course ketamine treatment that didn't do anything. i'm way too fucking scared of ect and tms and those are for depression anyway not anxiety.\n",
            "\n",
            "i do not know what else to try. mushrooms are legal in a place near me, so i am going to try to find someplace that sells me because i think the only thing that might help is some sort of spiritual enlightenment and acceptance of death. i can only be lucky i guess that i've only been like this for 2 years. i had some abusive relationships that i think made this kind of thing start. i wasn't like this before, i didn't even have anxiety. it's so fucking unfair. \n",
            "\n",
            "my left leg really fucking hurt yesterday and i'm afraid of a blood clot. it's better today so it doesn't make sense that it would be a clot? but i don't have any idea why it would have hurt like that and for so long, if it was doms it would have been the other leg.\n",
            "\n",
            "please help me. what else can i try? i always feel like everyone stares at me outside just curious if its for others like that too? urgh this is just to vent and get reassurance, i guess. so the other day i accidentally spilled water on my macbook. took it to the apple store and they said they could repair it and it was no problem and asked if i had a backup. i had just backed it up to an external hard drive a couple weeks ago (my icloud is full) and hadn’t really done much in the meantime so i said it was fine if it got wiped during repairs. \n",
            "\n",
            "of course, since then i’ve been panicking that i maybe didn’t back it up properly or something went wrong with the drive or my data will be corrupted or something. i’m beating myself up for not having them check before sending the laptop off for repairs. \n",
            "\n",
            "so now it’s 3:30 in the morning and i’m absolutely panicked that i’ve made a mistake that will lose all my schoolwork and pictures and everything. and i’m so angry at myself for not putting things onto onedrive as well as the hard drive. planning on going to the apple store first thing in the morning to have them check that i backed things up properly in case i can stop the repair before things are wiped if i messed up the back up. \n",
            "i don’t even know if they’ll be able to help me or if i’ll just make a fool of myself but i’m so so so panicked and i hate my brain for this (and for not backing things up better). \n",
            "\n",
            "gah! i am having trouble sleeping and it really is messing with me. i was recently diagnosed with gad, ptsd, and panic disorder. i feel like i could feel better if i could just get to sleep. i thought i found my answer in hydroxyzine but here i am wide awake at 3 am. it is ruining my life and i am so scared i won’t be able to get my life back. i have tried melatonin and essential oils, and listening to podcasts. any advice to help me fall and stay sleep would be greatly appreciated. i swear it always feels like i’m coming down with a fever, or a cold. my anxiety makes it worse believing i have covid or something and it’s a nightmare having this crap! i have weakness, an abundance of nausea, hot/cold flashes, dizziness, general malaise. anyone else get this or like this? i had severe atopic dermatitis since i was young. when i was 7 years old, my family moved to another town and i got better after moving. i thought it was gone forever, but it got worse recently. and it is driving me crazy. everywhere i go, people ask me \"what's wrong with your skin?\" or \"eww that looks really gross\". every day, i feel like my atopy is slowly consuming my entire body. i had a several mental breakdown because of that and i can't take it anymore. any kind of advice or support is welcome. i guess these pills always make me wonder. \n",
            "\n",
            "you take an ibu and you know within 30 mins your pain should go away. \n",
            "\n",
            "you take blood pressure medication and it lowers your blood pressure immediately. \n",
            "\n",
            "why are mental health related pills so complicated? it’s like one of the only types of pills that literally make you worse before better. ones that can actually cause the symptoms you’re trying to get rid of. why? is there a reason? i guess i’m at a loss. after everything i’ve been through i feel like i lost myself, a shell of who i was. is there any way to manage this? i feel resentful for what happened ed to me, i lost years of my life and feel like i’m so far behind where i should be in my life. i guess i’m posting here because i’m lying down here with crippling anxiety and i just do t know what the next step is to take. with the headlines being filled about food shortages, petrol shortages, increasing gas and tax that are being blasted over the news and social media, like others i’m sure, it’s really affecting me and starting to struggle with coping. i’ve now deleted most of my social media except reddit as i haven’t seen it as much here and pinterest. im trying to also avoid the news as much as i can. does anyone have any tips on how to cope when everything feels never ending? does anyone know good jobs that i can get with as little human interaction as possible? i have really bad social anxiety and it makes it really hard for me to talk to anyone and i’ve been a baby sitter for about a year and i need a better job… i’m exhausted and burnt out. i’m to the point of tears but i can’t cry any tears. i don’t know what to do make myself cry. i also don’t want anyone to walk in on me if i actually do cry. this might me extreme, but i want to hurt myself, so the pain might make me cry, and then go from there. i hate that i may have to cause physical pain in order to cry. my anxiety has been so bad this week. the only non-pain related thing that would make me cry? a cuddle or just being held. i want to be held so bad. i wish i could make that happen for myself. hello all i have been taking 100 mg zoloft for 2 months and am ready to ween off. i was wondering the safest way possible to do it without these horrible withdrawal symptoms. and before you say anything about contacting my doctor i have tried and cannot get a straight answer. so if i had been taking the 100 mg for 2 months how should i ween off properly? i have read to decrease the dose by 50 mg and that’s all i can seem to find. any help is appreciated 🙏 has anybody here tried iv ketamine infusion therapy? i’m starting in a few weeks and i’m a bit nervous. i’ve been dealing with what ive assumed to be anxiety my entire life (since i can remember, so like 6 or 7). im no doctor but i know it has to be some sort of anxiety disorder. it’s affected everything i do for years and years on end and my lifestyle is entirely based around my fear. \n",
            "\n",
            "anyways, i was wondering what steps i should take to finally get this treated? would it be worth it to first go to my family doctor? hopefully this is the right place to post this. \n",
            "\n",
            "i've recently been struggling with major fear of death. i use to have an issue with it as a kid, but it didn't last long. now ever time i see my parents all i see is them dying on the way home or dying just going to get groceries. i see my mom being shot my someone at the event all because they are drunk and angry. i see my dad having another heart attack. i see my husband dying while on a 911 call (he's a paramedic) or someone plowing into their ambulance. these thoughts are so vivid it makes me physically sick. i'll cry for so long. i worry constantly. i don't know how to push through this. \n",
            "\n",
            "if it matters in 29f. i do have depression, gad and bpd. we think i have undiagnosed adhd as well. i've been seeing the same therapist for years and she actually recommended i try to find a community on reddit to find others who have the same fear and what helps them. back in 2019 i spent two months in an out patient treatment center because i attempted to take my life. i was not in a good place and i feel like i'm going back there. i don't want to. i often get in a low mood while trying to have fun or wanting to enjoy myself. happens in the summer and at christmas every year since those are my favorite times of the year. here i am travelling in october to a wedding and am going to go out a week early and site-see in colorado. i will be alone saturday through wednesday and won't have conversations to distract me. how do i stay in a good mood? it's also my 30th birthday that week which is why i am taking the trip though the birthday is not until friday the 8th and i will be with people that day. \n",
            "\n",
            " how do i avoid being sad? i am fucking over everything... i am a college senior and the thought of graduating in may makes me cry. you see, i have a chaotic home life and the thought of having to move back into that chaos is so anxiety provoking. i have my dad who is emotionally volatile and any thing can set him off. sucks to be around someone like that..never know when he is going to go off. i feel like there are so many expectations that come along with getting older and i still feel as though i am 19/20, even though i am 22. in some ways, i miss high school-i miss being young. i don't know...i just feel so mediocre compared to everyone else. everyone around me has these crazy opportunities that come their way and i struggle even to reach out. getting my current internship was such a challenge and i already fucked it up. there's a certain way that i want to execute myself and i'm pissed that i can't come across the way that i do in my mind. i can do so much more. then, i hate being a friendless senior. it sucks. on one hand, it's my fault that i don't do more to stay in contact with people and consistently go to club meetings. then its so stressful to hear people around me talk about post-grad life and they talk about in such a negative way. yes, working is  fucking hard, but i feel like for me, i have to work... or else, i will just keep getting deeper in my anxiety. plus, i don't even know what i want to do with my life...i feel so mediocre. then on top of that, i have horrible body image issues and fucked up eating habits because i am very overweight and i'm short. so that fucking sucks. then i feel like once you reach a certain age, people expect more from you. i am 22 and still live at home, only first had an internship and the remarks from people just make me feel like a fucking failure. i'm like 22 and people still think i'm in high school...how demoralizing when in just a couple of months i will be a college graduate. i used to see a fucking therapist but he was a complete asshole who made me feel like shit every time i left the appointment. i already carry so much shame and shit that he said didn't help. each session he was like \"oh you went to residential remember this...\". bitch, that was fucking 3 years ago..i can barely remember what i did yesterday. then this fucking asshole months ago implied that i wouldn't get my driver's license. i explained my situation to him over and over again and he still wasn't fucking grasping it. well i passed anyways, so fuck him. his fucking remarks are the only reason why i passed because i wanted to prove this asshole wrong. getting my driver's license was such a major accomplishment for me and his reaction was so subpar. i was so excited. oh and then on top of that, i feel different from other people with anxiety disorders. other people seem like they are still able to have friends, go to parties, network and do other shit. well, i fucking struggle like there is no tomorrow with that. now back to the asshole therapist, he fucking implied that i was a hermit and for weeks, he would badger me on dropping the sorority i was in. i fucking hated this sorority and was he the one paying for it? nope!!!!!!!!! plus it was so cliqueish and it ended up shutting down. \n",
            "\n",
            "\n",
            "\n",
            "i want to find a new therapist but this process is so fucking annoying. i fucking hate going through the whole intake and shit. i thought about going back to my old therapist that i saw between the ages of 16-18.5, but ultimately decided against it because maybe i need a fresh start with a new therapist and i was a teen back then and i'm now an adult. so i've been going to a therapist for some time now, and made a lot of improvements over the months, but now i'm scared that i won't the able to help someone.\n",
            "\n",
            "i'm obsessed with making everything to help other, and people around me are starting to say that i'm diving in to deep into others people's problems by trying to pull everyone else up, but for me it just doesn't feel right not to do everything i can to help someone.\n",
            "\n",
            "this is getting to the point where i start another anxiety medication ( now 4 in total) to keep myself together and not get absolute demolished by everything around me.\n",
            "\n",
            "i was to drunk and high when someone needed me, and from there on i can't forgive myself and i've been doing everything i can to try to help, i can't sleep if my phone isn't on max volume, i feel like i'm always walking on eggs when around others to not cause trouble.\n",
            "\n",
            "everyone tells me that \"you aren't going to change the world\" and that i'm going in way to deep most of the times, but all of that goes against my beliefs and i keep jumping into wells to try to pull other people other people out of them.\n",
            "\n",
            "i made a small mistake a few days ago and i lost 1.5kg in one day because of the stress that it caused me \n",
            "\n",
            "i don't know what do to from here, i know i will keep placing other people wellbeing in front of mine and i'm scared shitless that i will breakdown again and then not be able to help anyone and burden other people in the process. i don’t know how to explain this. i’m on anxiety meds it’s well controlled on this medication i’m on. \n",
            "this girl at work is on the same medication.. plus wellbutrin. and it does not seem to be working for her. \n",
            "yesterday there was an incident at work , it made her so upset she left because she felt sick. \n",
            "i’ve had experiences pre medication at old jobs where i left because i would get panic attacks. i went on medication just for that. it’s like it’s giving me flashbacks i don’t want to have. \n",
            "\n",
            "i don’t know but her anxiety is freaking me out. i don’t think i can be her “work friend” unless she gets her anxiety under control. am i wrong for this? of course i’m gonna bring this up to my therapist. i got a job offer which is good! and the pay is better! and it lets me work from home unlike my current!\n",
            "\n",
            "i am terrified of:\n",
            "- bad work culture or more stressful workload! i would be the only woman in this tech startup team\n",
            "- having less vacation days! its unlimited pto but will they pressure me??\n",
            "- bad work life balance! they have an oncall rotation and im scared itll be bad ive never done oncall before\n",
            "\n",
            "please if you have gone through these things just tell me it’ll be fine and worth risking or that it turned out okay for you or whatever thank you ok so i have a cold ( kinda nearing to end i think) and it was/is super bad with like chest heaviness and mucus in chest and coughs and sore throat and mucus in throat and bubble in nose and nasal drip and dizziness and a fever and runny nose and a stuffy nose etc etc all that stuff. and my right ear has been blocked for a couple days because of it i think (i can still hear but it’s lower) (maybe the other ear blocked too). with like a bit of whooshing sounds coming every now and then (like wind blowing. so today i was blowing my nose because my nose has been feeling stuffyyy for days like i got the cold on monday/late weekend and now it’s friday and my nose has been feeling so full and every time i blow there’s like a bubble in there and i blow it back up and it goes in my throat and i swallow and i choke and so on. but 24/7 it feels like there’s a build up of snot and congestion and my throat sounds so nasally 24/7 it’s so hard to breathe from my nose so i was blowing and blowing and it’s so hard to get the snot out like when it did come out it was yellow and white and sticky and looked like cottage cheese and in my nose it had kinda a blue tinge but then i blew it out and it was either yellow or white and it was so sticky and thick. and i kept on blowing and blowing and more kept on coming it was so hard to get out idk if this is like build up  for days or something else i need to get checked out cos this carried on for like a full 10 or 20 minutes and u still feel bubbles in my nose everytime i breathe and stuff and it feels full. so is this all normal? is this part of the cold? i also coughed up like yellow mucus too a couple times. i’ve also been rubbing my nose so much there’s like a red bump at the opening inside my nose lol. will this all go away soon or a sign of something more serious like an ear infection or something else i need to get treated? also every time i breathe i can feel the bubbles in my nose u know what i mean? this is so frustrating to me, lately i have become such an awful person. i’m mean to my husband, snappy with my child and frustrated with my pets. i’m never ever like this, and i’ve been prescribed ativan to try to deal with the panic attacks that seem to cause the anger. i don’t even really know why i’m posting this, i guess i just want to scream my frustration into the void, and all of you understand these feelings.\n",
            "\n",
            "i’ve been dealing with other harmful symptoms that i’m not going to get into as well…i just feel like i’m more of a burden to my family than a help at times. thanks for listening to this little rant, i feel so alone sometimes since i’m the only one in my family that gets this way. i just got prescribed this and am uncertain about when to take it. ive heard mixed things about taking it at both times ok so have the anxiety where i worry about my overall health and i was just laying down and my chest had this very painful and sharp pain in it and i haven’t worried in a week and now i’m getting scared. i know it’s not a heart attack because being 18 it’s very very unlikely but now i’m on anxiety mode first time posting, though i’ve been reading for a while.  i just don’t know what else to do.  as i said in the title, my anxiety is ruining my marriage. \n",
            "\n",
            "i’ve struggled with anxiety for a long time, but it was always manageable.  it has been over different things all throughout my life…. it would manifest itself for a while, i’d struggle with it and it would go away.  in general my wife would be good with it.  she understood it was just me and who i was and we’d get through it.  however, the last year has happened.  \n",
            "\n",
            "i was laid off from my job during covid.  i really didn’t think that’d bothered me like it did.  it took awhile but i eventually found a job.  not a great one, not in my field exactly, but it was good pay and benefits.  almost immediately i was scared to death to go to work.  throughout the day i would fear any error i made, any feedback i received, any drip in performance.  i felt my boss was over bearing…. any time he called me to his office or sent me a email i would freeze. i began throwing up in the mornings before work and crying to my wife that i didn’t want to go.  on my days off i would sleep constantly because i was so exhausted from just surfing the day. i began seeing a therapist regularly.  i just knew it was not the right job for me and i needed to leave.  \n",
            "\n",
            "so i found a new job.  more in my field, more what i did before getting laid off and with a company known for having a work/life balance.  problem solved?  wrong…. it is worse.  \n",
            "\n",
            "daily panic attacks, throwing up daily before work, fits of crying where i need to leave the building so no one sees me. i struggle to sleep at night…. usually i wake up around 3am and sweat in bed while i watch the clock.  on top of all this i’m soooooo depressed now because nothing is better i feel so helpless.  \n",
            "\n",
            "but the worst part of all this is the impact to my family.  my wife is loving and kind.  she wakes up with me to help me get ready for work so i can have time to do breathing exercises, she takes my calls and texts when i need someone, but lately it is becoming too much for her.  she has her own problems too.  she has the kids to worry about and her own life.  she is to the point she needs me to be better and all i’m doing is getting worse.  \n",
            "\n",
            "she said to me in an argument recently that she doesn’t believe i’m trying hard enough.   i explain all the things i’m doing and how hard it is just to do those (going to psychiatrist now, breathing exercises, journaling, signed up for stress coaching, etc).  i just think she sees things only getting worse so believes i need to do more or something different.  she doesn’t understand how the smallest things are so hard.  i have to pep myself up just to get out of bed and shower.  \n",
            "\n",
            "i love my wife and i know she loves me, but we are in a bad place where my anxiety is controlling my life and has been for long enough where it is too much for her.  we asked the question today if maybe it would be better if we weren’t together but i can’t see how that fixes anything and really would only make things worse.  \n",
            "\n",
            "i really don’t know what to do anymore.  even if things go fine for a day or two, work still comes next monday and this whole vicious cycle repeats. ever since i moved into my apartment, i have felt uncomfortable. the energy just does not seem right, and i have troubles sleeping. i have tried to decorate my place. i also have many house plants.\n",
            "\n",
            "other info: i work from home, and my window faces east but does not get direct sunlight 9 months out of the year.\n",
            "\n",
            "my apartment is a studio where each \"room\" has an arched open doorway wall separating the three \"rooms\". the arched doorway is as large as 60in wide.\n",
            "\n",
            "if you walk in thru my front door from the hallway, you are in my office with the kitchen on your left and bedroom on your right. \n",
            "standard kitchen, really, with a furnace in it. my office and dining room (desk, eating table, book case) are the same function. my bedroom also serves as my living room (tv, couch, and closet on one side, bed on the other. \n",
            "\n",
            "i struggle to feel at peace, i struggle falling asleep/staying asleep/waking up.\n",
            "\n",
            "when i sleep in my childhood bedroom at my parents, most of these issues subside.\n",
            "\n",
            "any advice is very much appreciated. i cannot afford to move due to where i live, but i can afford to redecorate. hi i’m new to this subreddit and am currently dealing with anxiety from the loss of my father in december of 2020. after my father passed away in december of 2020 i had been doing well i never felt anxious about anything really but after i got a new job in august where i’ve been more isolated i’ve had multiple breakdowns where i relive the night when my father died. i brought it up with a female friend and my girlfriend. after that it felt good to finally let people know what i was going through and it was the first step for me to get help. but now whenever i see my female friend post anything online i get extremely anxious and feel trapped. my mind has associated seeing her with my anxiety and it seems to be getting worse. i am going to bring this up with my counselor next week and see what he thinks i should do but i think cutting contact for with her for awhile might be the best solution. please let me know if anyone else has had this and what they did to help it. there was a debate earlier in class that i have prepared for but then it was my turn to answer the opposing team’s question. my mind then went blank and i kept on slurring and stuttering my words. i can see how the opposing team was laughing and my team was clearly disappointed in me. i don’t cry in most situations that i embarrassed myself, but this is the first time that i cried after the debate and i want to physically harm myself due to humiliation. idk what i should do to stop crying and wanting to hurt myself due to embarrassment hi guys,\n",
            "\n",
            "a few months ago, i got prescribed 10mg propranolol on as take as i need basis. so i'm still pretty new to this.\n",
            "\n",
            "just looking for some advice in regards to drinking. i am going clubbing soon and am a little nervous about the amount of people so thinking about taking some prop first. i am going to be drinking so wondering about people experiences. i have quite a high tolerance (whole bottle of (cheap) wine without getting tipsy).\n",
            "\n",
            "people who have drank on propranolol, how much does it affect you? does it make it stronger? make you more nauseous? more hungover? \n",
            "\n",
            "basically should i try it or just get very drunk to beat the anxiety haha\n",
            "\n",
            "please help xx should i smoke it to become more social and less caring of what i am.\n",
            "\n",
            "does marijuana lower iq after some research, i have come to the conclusion that i have burnout. the weird part is i have felt this way for many years. at this point in my life, i am trying to get my doula certification. if i am being honest, i am scared to jump into this career. i am afraid i'm going to fail again. a year ago i failed my bh tech test and i also failed my pre-calculus class and dropped out of college. i spent all 4 years of hs with a 4.0 gpa. i certainly wasn't an exceptional student, but i was a good one with potential. people had high expectations for me and i just don't want to let them [down.](https://down.my) during my whole life i had had a problem with sticking to things, remembering things, concentrating, and motivation. i just feel like i am not good enough. i have the passion for being a doula, but my anxiety is holding me back. hello, i am 22 y/o and just started lexapro. i’m on day 6 of 5mg and will be increasing dose up to 10mg on day 8. i have had 0 appetite at all and my anxiety has still been absolutely horrible. i cry all the time still and have daily panic attacks and ruminating anxious thoughts. i guess i’m just looking for reassurance that it will get better and it will work. i’m terrified i’m going to be stuck in this horrible feeling forever and am going to let life pass by me. i have ativan 0.5mg to take as needed as well but that just seems to make me calm but doesn’t stop my worrying. looking for support :( i have had almost constant anxiety for the past three months. i dread the weekdays because i am completely unfocused at work. i dread the weekends because i have so many unplanned hours to just sit and worry.\n",
            "\n",
            "three months ago i was totally normal and confident. it feels like the bottom has completely dropped out of my life and that i am going nuts.\n",
            "\n",
            "i’m on week three of lexapro but all it seems to have done so far is make me not cry.\n",
            "\n",
            "is there anywhere i can go? i have been trying to see a psychiatrist but i can’t seem to get into see one. even if i do i know that it will take a while for whatever they do to work.\n",
            "\n",
            "i talk to my wife about my issues but i know it is getting wearing on her.\n",
            "\n",
            "is there any kind of a recovery center or anything i can go to? yeah it's a low dose, 1x per day as needed with 15 allotted to me each month. with my history, i should be thankful i have any. i've had 4-5 occasions where it actually worked and i could feel something, but every other time i felt nothing. on a particularly bad night i did something i shouldn't have and took 4 at once (1mg). absolutely nothing. anyone else experience this? i want to try another low dose of a different benzo but i'm nervous to ask because of my history. those of you who have experienced this, did other benzos work better? which ones did you have success with? or perhaps even something else like gabapentin, or god forbid, lyrica (in my dreams). from what i understand gabapentin is well tolerated and while still being abusable isn't really comparable to benzos for most people\n",
            "\n",
            "edit: for more information my general anxiety hasn't been a huge issue since i've started paxil but it hasn't affected my panic attacks at all which is what eventually led me to being put on klonopin in the first place after some hospitalizations and long periods of insomnia  not sure really how to word this but i have a great sense of spatial awareness. since i was a kid i would subconsciously keep track of all the people around me.  just like 4 people in the house, i would know where they were at all times.  \n",
            "\n",
            "then i remember working on my first restaurant.  we went in early in the morning and there were like 3-4 of us prepping.  again i would subconsciously keep track of everyone’s whereabouts.  \n",
            "\n",
            "i just thought of this and i’m not sure if it derives from anxiety, trauma, or adhd.  maybe none of the above.  but i also tend to just be a people watcher.  if i have to go to a waiting room or something alone i cannot be looking at my phone.  i usually sit in the corner away from the door and just watch people like a fly on the wall, going about their day.  \n",
            "\n",
            "thoughts? every single time im close to a test and it sems like im a failure and that i havent studied enough, tomorrow i have a really important test and a essay to define wheater or not im going to be in a special class at my school and im going insane right now felling like if i dont succed i wont get to a good colage when im older and il be a failure in life and this sucks so much i fell like im about to cry, its always like this and i always succed but that nevers convices me that im going to do fine on the next test instead it makes me more anxious cause i start to fell like this one is diferent and it will be harder. does anyone ever want to claw or scratch their nails onto paper when they clip their nails ?? i have this urge to do it and when i don’t want to do it i get this tingly sensation and i feel uncomfortable. sometimes i want to cut my fingers off or squish something. this has been happening since i was young, can anyone tell me why..?? does anyone else here have ocd and is scared of getting new obsessions. like a lot of thoughts that come into my head even sometimes positive i get scared i’ll get obsessed. i’m also scared the things i do are compulsions and rituals when they are literally just normal things i do i hate it does anyone get to the point where they’re too anxious and they start hearing voices or seeing things?, a few year back i started hearing voices and seeing things that weren’t there and the people i was under put it down to my anxiety. \n",
            "\n",
            "i’ve been anxious after that and my voices start again but not as bad as it did a few year back.\n"
          ]
        }
      ]
    },
    {
      "cell_type": "code",
      "metadata": {
        "colab": {
          "base_uri": "https://localhost:8080/"
        },
        "id": "ZENS5ZcQvLNU",
        "outputId": "94a56f4e-d1d9-4a9d-edaf-65386095dfbe"
      },
      "source": [
        "#we split at every fullstop to get sentences\n",
        "sentences =b.split('.')\n",
        "len(sentences)"
      ],
      "execution_count": null,
      "outputs": [
        {
          "output_type": "execute_result",
          "data": {
            "text/plain": [
              "847"
            ]
          },
          "metadata": {},
          "execution_count": 63
        }
      ]
    },
    {
      "cell_type": "code",
      "metadata": {
        "id": "mRGp5Va7KEkl"
      },
      "source": [
        "df = pd.DataFrame (sentences, columns = ['text'])"
      ],
      "execution_count": null,
      "outputs": []
    },
    {
      "cell_type": "code",
      "metadata": {
        "id": "or2B6qiFLE5a"
      },
      "source": [
        "#all special charecters are removed making use of the regular expressions library\n",
        "import re\n",
        "def only_alnum(text):\n",
        "  result= re.sub(r\"[^a-zA-Z0-9]+\", ' ', text)\n",
        "  return result"
      ],
      "execution_count": null,
      "outputs": []
    },
    {
      "cell_type": "code",
      "metadata": {
        "id": "s10vQ-3RLb9l"
      },
      "source": [
        "text=df['text'].apply(lambda x : only_alnum(x))"
      ],
      "execution_count": null,
      "outputs": []
    },
    {
      "cell_type": "code",
      "metadata": {
        "colab": {
          "base_uri": "https://localhost:8080/"
        },
        "id": "PBcg46ZZLx_b",
        "outputId": "a3e648ac-c49e-4908-d59f-3955d303782a"
      },
      "source": [
        "text.head(10)"
      ],
      "execution_count": null,
      "outputs": [
        {
          "output_type": "execute_result",
          "data": {
            "text/plain": [
              "0    congrats r anxiety we ve all made it to wednes...\n",
              "1     it is easy for mental health subreddits to fo...\n",
              "2     but once in a while you get shown the light i...\n",
              "3     so whether you made it out of bed today spoke...\n",
              "4     any accomplishment victory positive thought o...\n",
              "5     we hope for this to serve as casual community...\n",
              "6     you can also use this as an easy way to give ...\n",
              "7     checking in let us know what s on your mind t...\n",
              "8     thanks and stay safe the r anxiety mod team i...\n",
              "9     i ll constantly be anxious over whether my ac...\n",
              "Name: text, dtype: object"
            ]
          },
          "metadata": {},
          "execution_count": 138
        }
      ]
    },
    {
      "cell_type": "code",
      "metadata": {
        "id": "OkuhyTlDQffN"
      },
      "source": [
        "#recording the length of the sentences\n",
        "j=text.apply(lambda x: len(x.split(' ')))"
      ],
      "execution_count": null,
      "outputs": []
    },
    {
      "cell_type": "code",
      "metadata": {
        "colab": {
          "base_uri": "https://localhost:8080/"
        },
        "id": "puduDTH3bHwa",
        "outputId": "7be8ec70-8e35-4f56-d0f3-d051a424d734"
      },
      "source": [
        "j.mean()"
      ],
      "execution_count": null,
      "outputs": [
        {
          "output_type": "execute_result",
          "data": {
            "text/plain": [
              "20.272727272727273"
            ]
          },
          "metadata": {},
          "execution_count": 140
        }
      ]
    },
    {
      "cell_type": "code",
      "metadata": {
        "id": "ChaEsvoOXndg"
      },
      "source": [
        "data=pd.concat([text,j], axis=1)\n",
        "data.columns=['text','no_of_words']"
      ],
      "execution_count": null,
      "outputs": []
    },
    {
      "cell_type": "code",
      "metadata": {
        "id": "6-TF2148cTdh",
        "colab": {
          "base_uri": "https://localhost:8080/",
          "height": 203
        },
        "outputId": "c3bafd24-2e5e-4a47-af5f-d1995502baa3"
      },
      "source": [
        "data.head()"
      ],
      "execution_count": null,
      "outputs": [
        {
          "output_type": "execute_result",
          "data": {
            "text/html": [
              "<div>\n",
              "<style scoped>\n",
              "    .dataframe tbody tr th:only-of-type {\n",
              "        vertical-align: middle;\n",
              "    }\n",
              "\n",
              "    .dataframe tbody tr th {\n",
              "        vertical-align: top;\n",
              "    }\n",
              "\n",
              "    .dataframe thead th {\n",
              "        text-align: right;\n",
              "    }\n",
              "</style>\n",
              "<table border=\"1\" class=\"dataframe\">\n",
              "  <thead>\n",
              "    <tr style=\"text-align: right;\">\n",
              "      <th></th>\n",
              "      <th>text</th>\n",
              "      <th>no_of_words</th>\n",
              "    </tr>\n",
              "  </thead>\n",
              "  <tbody>\n",
              "    <tr>\n",
              "      <th>0</th>\n",
              "      <td>congrats r anxiety we ve all made it to wednes...</td>\n",
              "      <td>34</td>\n",
              "    </tr>\n",
              "    <tr>\n",
              "      <th>1</th>\n",
              "      <td>it is easy for mental health subreddits to fo...</td>\n",
              "      <td>25</td>\n",
              "    </tr>\n",
              "    <tr>\n",
              "      <th>2</th>\n",
              "      <td>but once in a while you get shown the light i...</td>\n",
              "      <td>22</td>\n",
              "    </tr>\n",
              "    <tr>\n",
              "      <th>3</th>\n",
              "      <td>so whether you made it out of bed today spoke...</td>\n",
              "      <td>37</td>\n",
              "    </tr>\n",
              "    <tr>\n",
              "      <th>4</th>\n",
              "      <td>any accomplishment victory positive thought o...</td>\n",
              "      <td>28</td>\n",
              "    </tr>\n",
              "  </tbody>\n",
              "</table>\n",
              "</div>"
            ],
            "text/plain": [
              "                                                text  no_of_words\n",
              "0  congrats r anxiety we ve all made it to wednes...           34\n",
              "1   it is easy for mental health subreddits to fo...           25\n",
              "2   but once in a while you get shown the light i...           22\n",
              "3   so whether you made it out of bed today spoke...           37\n",
              "4   any accomplishment victory positive thought o...           28"
            ]
          },
          "metadata": {},
          "execution_count": 142
        }
      ]
    },
    {
      "cell_type": "code",
      "metadata": {
        "colab": {
          "base_uri": "https://localhost:8080/"
        },
        "id": "Nv0hetoyQioA",
        "outputId": "f69e8bf4-aaec-44ed-c997-33c9ad7ede10"
      },
      "source": [
        "# Filter all rows for which the no.of words is greater than or equal to 3\n",
        "#because we need at least 3 words to have a sentence that conveys some meaning on its own\n",
        "#also removing sentences with more than 25 words because in that case there can be multiple themes and may be difficult to classify\n",
        "data_f = data[(data['no_of_words'] >= 3) & (data['no_of_words']<25)]\n",
        "  \n",
        "# Print the new dataframe\n",
        "print(data_f.head(15))"
      ],
      "execution_count": null,
      "outputs": [
        {
          "output_type": "stream",
          "name": "stdout",
          "text": [
            "                                                 text  no_of_words\n",
            "2    but once in a while you get shown the light i...           22\n",
            "8    thanks and stay safe the r anxiety mod team i...           19\n",
            "11   it s as if through giving into an urge i m fr...           23\n",
            "12   my cousin came over today and i was having a ...           23\n",
            "16                       even the xanax barely helped            6\n",
            "17                                       but i did it            5\n",
            "18         only has a sore arm and woke up sweaty lol           11\n",
            "19   but i hear the 2nd shot is more likely to rea...           15\n",
            "20                       my dad s 2nd he felt nothing            8\n",
            "21        my teenage siblings felt achey and fatigued            8\n",
            "22                            hope i don t get it bad            8\n",
            "23   i m going to drug myself again and go get the...           15\n",
            "26   work just amplifies my social anxiety to the ...           18\n",
            "27                                  i hate small talk            5\n",
            "28                                    i hate meetings            4\n"
          ]
        }
      ]
    },
    {
      "cell_type": "code",
      "metadata": {
        "id": "Zrsi-I9rYLY6"
      },
      "source": [
        "dataset1=data_f.iloc[:500,:]"
      ],
      "execution_count": null,
      "outputs": []
    },
    {
      "cell_type": "code",
      "metadata": {
        "colab": {
          "base_uri": "https://localhost:8080/"
        },
        "id": "nbn3CsElY7Kf",
        "outputId": "394a6f5b-63d2-4efd-8e60-ca88aa689793"
      },
      "source": [
        "dataset1.shape"
      ],
      "execution_count": null,
      "outputs": [
        {
          "output_type": "execute_result",
          "data": {
            "text/plain": [
              "(500, 2)"
            ]
          },
          "metadata": {},
          "execution_count": 351
        }
      ]
    },
    {
      "cell_type": "code",
      "metadata": {
        "id": "jI5g_9UVjR5Z"
      },
      "source": [
        "dataset2= dataset1.reset_index()\n",
        "dataset=dataset2.drop(['index'], axis=1)"
      ],
      "execution_count": null,
      "outputs": []
    },
    {
      "cell_type": "code",
      "metadata": {
        "colab": {
          "base_uri": "https://localhost:8080/",
          "height": 203
        },
        "id": "U4gIPz9WnqP9",
        "outputId": "918d224e-6051-4a7d-bfbd-577c8567f384"
      },
      "source": [
        "dataset.head()"
      ],
      "execution_count": null,
      "outputs": [
        {
          "output_type": "execute_result",
          "data": {
            "text/html": [
              "<div>\n",
              "<style scoped>\n",
              "    .dataframe tbody tr th:only-of-type {\n",
              "        vertical-align: middle;\n",
              "    }\n",
              "\n",
              "    .dataframe tbody tr th {\n",
              "        vertical-align: top;\n",
              "    }\n",
              "\n",
              "    .dataframe thead th {\n",
              "        text-align: right;\n",
              "    }\n",
              "</style>\n",
              "<table border=\"1\" class=\"dataframe\">\n",
              "  <thead>\n",
              "    <tr style=\"text-align: right;\">\n",
              "      <th></th>\n",
              "      <th>text</th>\n",
              "      <th>no_of_words</th>\n",
              "    </tr>\n",
              "  </thead>\n",
              "  <tbody>\n",
              "    <tr>\n",
              "      <th>0</th>\n",
              "      <td>but once in a while you get shown the light i...</td>\n",
              "      <td>22</td>\n",
              "    </tr>\n",
              "    <tr>\n",
              "      <th>1</th>\n",
              "      <td>thanks and stay safe the r anxiety mod team i...</td>\n",
              "      <td>19</td>\n",
              "    </tr>\n",
              "    <tr>\n",
              "      <th>2</th>\n",
              "      <td>it s as if through giving into an urge i m fr...</td>\n",
              "      <td>23</td>\n",
              "    </tr>\n",
              "    <tr>\n",
              "      <th>3</th>\n",
              "      <td>my cousin came over today and i was having a ...</td>\n",
              "      <td>23</td>\n",
              "    </tr>\n",
              "    <tr>\n",
              "      <th>4</th>\n",
              "      <td>even the xanax barely helped</td>\n",
              "      <td>6</td>\n",
              "    </tr>\n",
              "  </tbody>\n",
              "</table>\n",
              "</div>"
            ],
            "text/plain": [
              "                                                text  no_of_words\n",
              "0   but once in a while you get shown the light i...           22\n",
              "1   thanks and stay safe the r anxiety mod team i...           19\n",
              "2   it s as if through giving into an urge i m fr...           23\n",
              "3   my cousin came over today and i was having a ...           23\n",
              "4                       even the xanax barely helped            6"
            ]
          },
          "metadata": {},
          "execution_count": 353
        }
      ]
    },
    {
      "cell_type": "code",
      "metadata": {
        "id": "CJmAd4RMc72P"
      },
      "source": [
        "#splitting into testing and training dataset\n",
        "train=dataset.iloc[:200,:]\n",
        "test=dataset.iloc[200:500,:]"
      ],
      "execution_count": null,
      "outputs": []
    },
    {
      "cell_type": "code",
      "metadata": {
        "colab": {
          "base_uri": "https://localhost:8080/"
        },
        "id": "lSsC_C3efUh-",
        "outputId": "729dac30-f25b-4b39-d7c4-5e9f2d5d4a91"
      },
      "source": [
        "test.shape"
      ],
      "execution_count": null,
      "outputs": [
        {
          "output_type": "execute_result",
          "data": {
            "text/plain": [
              "(300, 2)"
            ]
          },
          "metadata": {},
          "execution_count": 355
        }
      ]
    },
    {
      "cell_type": "code",
      "metadata": {
        "colab": {
          "base_uri": "https://localhost:8080/"
        },
        "id": "5viVdPAbgYdA",
        "outputId": "9da420d3-c4be-4a66-b813-97af4ea4dddc"
      },
      "source": [
        "train.shape"
      ],
      "execution_count": null,
      "outputs": [
        {
          "output_type": "execute_result",
          "data": {
            "text/plain": [
              "(200, 2)"
            ]
          },
          "metadata": {},
          "execution_count": 356
        }
      ]
    },
    {
      "cell_type": "code",
      "metadata": {
        "id": "e33kmu34crAI"
      },
      "source": [
        "#exporting the dataset for future use and annotation\n",
        "dataset.to_csv('dataset.csv')\n",
        "train.to_csv('train.csv')\n",
        "test.to_csv('test.csv')"
      ],
      "execution_count": null,
      "outputs": []
    },
    {
      "cell_type": "code",
      "metadata": {
        "colab": {
          "base_uri": "https://localhost:8080/",
          "height": 203
        },
        "id": "aZSr0L1ng7ZK",
        "outputId": "98e2c9ae-c9d7-43ac-dbcd-ad7db0e9b16f"
      },
      "source": [
        "#extracting labels from the annotated file\n",
        "train_wl=pd.read_csv('train_a.csv')\n",
        "train_wl.head()"
      ],
      "execution_count": null,
      "outputs": [
        {
          "output_type": "execute_result",
          "data": {
            "text/html": [
              "<div>\n",
              "<style scoped>\n",
              "    .dataframe tbody tr th:only-of-type {\n",
              "        vertical-align: middle;\n",
              "    }\n",
              "\n",
              "    .dataframe tbody tr th {\n",
              "        vertical-align: top;\n",
              "    }\n",
              "\n",
              "    .dataframe thead th {\n",
              "        text-align: right;\n",
              "    }\n",
              "</style>\n",
              "<table border=\"1\" class=\"dataframe\">\n",
              "  <thead>\n",
              "    <tr style=\"text-align: right;\">\n",
              "      <th></th>\n",
              "      <th>Unnamed: 0</th>\n",
              "      <th>text</th>\n",
              "      <th>no_of_words</th>\n",
              "      <th>label</th>\n",
              "    </tr>\n",
              "  </thead>\n",
              "  <tbody>\n",
              "    <tr>\n",
              "      <th>0</th>\n",
              "      <td>0</td>\n",
              "      <td>but once in a while you get shown the light in...</td>\n",
              "      <td>22</td>\n",
              "      <td>0</td>\n",
              "    </tr>\n",
              "    <tr>\n",
              "      <th>1</th>\n",
              "      <td>1</td>\n",
              "      <td>thanks and stay safe the r anxiety mod team i ...</td>\n",
              "      <td>19</td>\n",
              "      <td>0</td>\n",
              "    </tr>\n",
              "    <tr>\n",
              "      <th>2</th>\n",
              "      <td>2</td>\n",
              "      <td>it s as if through giving into an urge i m fre...</td>\n",
              "      <td>23</td>\n",
              "      <td>0</td>\n",
              "    </tr>\n",
              "    <tr>\n",
              "      <th>3</th>\n",
              "      <td>3</td>\n",
              "      <td>my cousin came over today and i was having a t...</td>\n",
              "      <td>23</td>\n",
              "      <td>1</td>\n",
              "    </tr>\n",
              "    <tr>\n",
              "      <th>4</th>\n",
              "      <td>4</td>\n",
              "      <td>even the xanax barely helped</td>\n",
              "      <td>6</td>\n",
              "      <td>1</td>\n",
              "    </tr>\n",
              "  </tbody>\n",
              "</table>\n",
              "</div>"
            ],
            "text/plain": [
              "   Unnamed: 0  ... label\n",
              "0           0  ...     0\n",
              "1           1  ...     0\n",
              "2           2  ...     0\n",
              "3           3  ...     1\n",
              "4           4  ...     1\n",
              "\n",
              "[5 rows x 4 columns]"
            ]
          },
          "metadata": {},
          "execution_count": 358
        }
      ]
    },
    {
      "cell_type": "code",
      "metadata": {
        "id": "U0cshAGwvFYg"
      },
      "source": [
        "y_train=train_wl['label']"
      ],
      "execution_count": null,
      "outputs": []
    },
    {
      "cell_type": "code",
      "metadata": {
        "id": "ZWRKfq4svwOm"
      },
      "source": [
        "#splitting / tokenizing the dataset\n",
        "dataset= dataset['text'].apply(lambda x: x.split())"
      ],
      "execution_count": null,
      "outputs": []
    },
    {
      "cell_type": "code",
      "metadata": {
        "colab": {
          "base_uri": "https://localhost:8080/"
        },
        "id": "oldmihLRxFx9",
        "outputId": "d16da349-b715-450a-da5d-da46ba3b85a0"
      },
      "source": [
        "dataset.head()"
      ],
      "execution_count": null,
      "outputs": [
        {
          "output_type": "execute_result",
          "data": {
            "text/plain": [
              "0    [but, once, in, a, while, you, get, shown, the...\n",
              "1    [thanks, and, stay, safe, the, r, anxiety, mod...\n",
              "2    [it, s, as, if, through, giving, into, an, urg...\n",
              "3    [my, cousin, came, over, today, and, i, was, h...\n",
              "4                   [even, the, xanax, barely, helped]\n",
              "Name: text, dtype: object"
            ]
          },
          "metadata": {},
          "execution_count": 361
        }
      ]
    },
    {
      "cell_type": "code",
      "metadata": {
        "colab": {
          "base_uri": "https://localhost:8080/"
        },
        "id": "qEwl4XjsP5BO",
        "outputId": "a3d72c1a-ec67-4ad3-ebd6-37af21e1b94c"
      },
      "source": [
        "pip install nltk"
      ],
      "execution_count": null,
      "outputs": [
        {
          "output_type": "stream",
          "name": "stdout",
          "text": [
            "Requirement already satisfied: nltk in /usr/local/lib/python3.7/dist-packages (3.2.5)\n",
            "Requirement already satisfied: six in /usr/local/lib/python3.7/dist-packages (from nltk) (1.15.0)\n"
          ]
        }
      ]
    },
    {
      "cell_type": "code",
      "metadata": {
        "colab": {
          "base_uri": "https://localhost:8080/"
        },
        "id": "xXOrD4XJxWXl",
        "outputId": "f58fbd27-7163-4628-ec98-0186f1c2bf3d"
      },
      "source": [
        "#removing stop words, We imported a list of the most frequently used words ‘i’, ‘me’, ‘my’, ‘myself’, ‘we’, ‘you’, ‘he’, ‘his’, for example. \n",
        "#We usually want to remove these because they have low predictive power.\n",
        "import nltk\n",
        "nltk.download(\"stopwords\")\n",
        "from nltk.corpus import stopwords\n",
        "print(stopwords.words('english'))"
      ],
      "execution_count": null,
      "outputs": [
        {
          "output_type": "stream",
          "name": "stdout",
          "text": [
            "[nltk_data] Downloading package stopwords to /root/nltk_data...\n",
            "[nltk_data]   Package stopwords is already up-to-date!\n",
            "['i', 'me', 'my', 'myself', 'we', 'our', 'ours', 'ourselves', 'you', \"you're\", \"you've\", \"you'll\", \"you'd\", 'your', 'yours', 'yourself', 'yourselves', 'he', 'him', 'his', 'himself', 'she', \"she's\", 'her', 'hers', 'herself', 'it', \"it's\", 'its', 'itself', 'they', 'them', 'their', 'theirs', 'themselves', 'what', 'which', 'who', 'whom', 'this', 'that', \"that'll\", 'these', 'those', 'am', 'is', 'are', 'was', 'were', 'be', 'been', 'being', 'have', 'has', 'had', 'having', 'do', 'does', 'did', 'doing', 'a', 'an', 'the', 'and', 'but', 'if', 'or', 'because', 'as', 'until', 'while', 'of', 'at', 'by', 'for', 'with', 'about', 'against', 'between', 'into', 'through', 'during', 'before', 'after', 'above', 'below', 'to', 'from', 'up', 'down', 'in', 'out', 'on', 'off', 'over', 'under', 'again', 'further', 'then', 'once', 'here', 'there', 'when', 'where', 'why', 'how', 'all', 'any', 'both', 'each', 'few', 'more', 'most', 'other', 'some', 'such', 'no', 'nor', 'not', 'only', 'own', 'same', 'so', 'than', 'too', 'very', 's', 't', 'can', 'will', 'just', 'don', \"don't\", 'should', \"should've\", 'now', 'd', 'll', 'm', 'o', 're', 've', 'y', 'ain', 'aren', \"aren't\", 'couldn', \"couldn't\", 'didn', \"didn't\", 'doesn', \"doesn't\", 'hadn', \"hadn't\", 'hasn', \"hasn't\", 'haven', \"haven't\", 'isn', \"isn't\", 'ma', 'mightn', \"mightn't\", 'mustn', \"mustn't\", 'needn', \"needn't\", 'shan', \"shan't\", 'shouldn', \"shouldn't\", 'wasn', \"wasn't\", 'weren', \"weren't\", 'won', \"won't\", 'wouldn', \"wouldn't\"]\n"
          ]
        }
      ]
    },
    {
      "cell_type": "code",
      "metadata": {
        "id": "vCoKOLzexLYg"
      },
      "source": [
        "def remove_stopwords(text):\n",
        "  words=[w for w in text if w not in stopwords.words('english')]\n",
        "  return words"
      ],
      "execution_count": null,
      "outputs": []
    },
    {
      "cell_type": "code",
      "metadata": {
        "id": "ACgZ_mHtydAT"
      },
      "source": [
        "dataset= dataset.apply(lambda x : remove_stopwords(x))"
      ],
      "execution_count": null,
      "outputs": []
    },
    {
      "cell_type": "code",
      "metadata": {
        "colab": {
          "base_uri": "https://localhost:8080/"
        },
        "id": "GM973mttEgZE",
        "outputId": "0bd7e137-75c8-49a1-8e56-7c86c51eca00"
      },
      "source": [
        "dataset.head()"
      ],
      "execution_count": null,
      "outputs": [
        {
          "output_type": "execute_result",
          "data": {
            "text/plain": [
              "0    [get, shown, light, strangest, places, look, r...\n",
              "1    [thanks, stay, safe, r, anxiety, mod, team, 16...\n",
              "2    [giving, urge, freeing, anxiety, wrong, may, f...\n",
              "3    [cousin, came, today, ton, intrusive, sexual, ...\n",
              "4                        [even, xanax, barely, helped]\n",
              "Name: text, dtype: object"
            ]
          },
          "metadata": {},
          "execution_count": 365
        }
      ]
    },
    {
      "cell_type": "code",
      "metadata": {
        "id": "0BQCI8xpJ0U0"
      },
      "source": [
        "#lemmatizing the dataset\n",
        "lemmatizer = nltk.WordNetLemmatizer()\n",
        "def word_lemmatizer(text):\n",
        "  lem_text=[lemmatizer.lemmatize(i) for i in text]\n",
        "  return lem_text"
      ],
      "execution_count": null,
      "outputs": []
    },
    {
      "cell_type": "code",
      "metadata": {
        "colab": {
          "base_uri": "https://localhost:8080/"
        },
        "id": "TCLbIZpYKmpE",
        "outputId": "150db458-8673-4012-ea0d-038af1c05d26"
      },
      "source": [
        "nltk.download('wordnet')\n",
        "dataset=dataset.apply(lambda x : word_lemmatizer(x))"
      ],
      "execution_count": null,
      "outputs": [
        {
          "output_type": "stream",
          "name": "stdout",
          "text": [
            "[nltk_data] Downloading package wordnet to /root/nltk_data...\n",
            "[nltk_data]   Package wordnet is already up-to-date!\n"
          ]
        }
      ]
    },
    {
      "cell_type": "code",
      "metadata": {
        "id": "yslrrKspRTh0"
      },
      "source": [
        "#transforming individual words to their roots, these words may not be found in the dictionary or even make sense\n",
        "stemmer= nltk.PorterStemmer()\n",
        "def word_stemmer(text):\n",
        "  stem_text=\" \".join([stemmer.stem(i) for i in text])\n",
        "  return stem_text"
      ],
      "execution_count": null,
      "outputs": []
    },
    {
      "cell_type": "code",
      "metadata": {
        "id": "vmYF8U2YS4Kj"
      },
      "source": [
        "dataset=dataset.apply(lambda x : word_stemmer(x))"
      ],
      "execution_count": null,
      "outputs": []
    },
    {
      "cell_type": "code",
      "metadata": {
        "colab": {
          "base_uri": "https://localhost:8080/"
        },
        "id": "tOznSTvHS80O",
        "outputId": "e823e4c7-738e-4ccc-d3d7-f28e04b1a1a8"
      },
      "source": [
        "dataset.head()"
      ],
      "execution_count": null,
      "outputs": [
        {
          "output_type": "execute_result",
          "data": {
            "text/plain": [
              "0           get shown light strangest place look right\n",
              "1       thank stay safe r anxieti mod team 16 male ocd\n",
              "2                 give urg free anxieti wrong may feel\n",
              "3    cousin came today ton intrus sexual thought ac...\n",
              "4                                 even xanax bare help\n",
              "Name: text, dtype: object"
            ]
          },
          "metadata": {},
          "execution_count": 371
        }
      ]
    },
    {
      "cell_type": "code",
      "metadata": {
        "colab": {
          "base_uri": "https://localhost:8080/"
        },
        "id": "0_Q0yDKUVKZZ",
        "outputId": "67f55f47-5f05-443a-b7b8-dd96443e172f"
      },
      "source": [
        "dataset.shape"
      ],
      "execution_count": null,
      "outputs": [
        {
          "output_type": "execute_result",
          "data": {
            "text/plain": [
              "(500,)"
            ]
          },
          "metadata": {},
          "execution_count": 372
        }
      ]
    },
    {
      "cell_type": "code",
      "metadata": {
        "id": "vXSk9W8KTITC"
      },
      "source": [
        "#creating a pipeline that first vectorizes the words and then trains classification models on it\n",
        "# we will be trying the Naive Bayes and Support Vector Machine for classification of the vectors\n",
        "from sklearn.feature_extraction.text import TfidfVectorizer\n",
        "from sklearn.naive_bayes import MultinomialNB\n",
        "from sklearn.pipeline import make_pipeline\n",
        "model1 = make_pipeline(TfidfVectorizer(),MultinomialNB())"
      ],
      "execution_count": null,
      "outputs": []
    },
    {
      "cell_type": "code",
      "metadata": {
        "id": "PoK1cAWVVWf-"
      },
      "source": [
        "train=dataset.iloc[:200]"
      ],
      "execution_count": null,
      "outputs": []
    },
    {
      "cell_type": "code",
      "metadata": {
        "colab": {
          "base_uri": "https://localhost:8080/"
        },
        "id": "_eJE7ZtBUlq-",
        "outputId": "f0a55dda-bf13-430c-df03-40062b3187fc"
      },
      "source": [
        "model1.fit(train, y_train)"
      ],
      "execution_count": null,
      "outputs": [
        {
          "output_type": "execute_result",
          "data": {
            "text/plain": [
              "Pipeline(memory=None,\n",
              "         steps=[('tfidfvectorizer',\n",
              "                 TfidfVectorizer(analyzer='word', binary=False,\n",
              "                                 decode_error='strict',\n",
              "                                 dtype=<class 'numpy.float64'>,\n",
              "                                 encoding='utf-8', input='content',\n",
              "                                 lowercase=True, max_df=1.0, max_features=None,\n",
              "                                 min_df=1, ngram_range=(1, 1), norm='l2',\n",
              "                                 preprocessor=None, smooth_idf=True,\n",
              "                                 stop_words=None, strip_accents=None,\n",
              "                                 sublinear_tf=False,\n",
              "                                 token_pattern='(?u)\\\\b\\\\w\\\\w+\\\\b',\n",
              "                                 tokenizer=None, use_idf=True,\n",
              "                                 vocabulary=None)),\n",
              "                ('multinomialnb',\n",
              "                 MultinomialNB(alpha=1.0, class_prior=None, fit_prior=True))],\n",
              "         verbose=False)"
            ]
          },
          "metadata": {},
          "execution_count": 384
        }
      ]
    },
    {
      "cell_type": "code",
      "metadata": {
        "id": "-p8z6ClTUyOp"
      },
      "source": [
        "test=dataset.iloc[200:500]\n",
        "y_pred= model1.predict(test)"
      ],
      "execution_count": null,
      "outputs": []
    },
    {
      "cell_type": "code",
      "metadata": {
        "colab": {
          "base_uri": "https://localhost:8080/",
          "height": 203
        },
        "id": "E58k9dp1eRID",
        "outputId": "6fe8fb14-4f12-4e46-e6b2-003abea033fd"
      },
      "source": [
        "test_a=pd.read_csv(\"test_a.csv\")\n",
        "test_a.head()"
      ],
      "execution_count": null,
      "outputs": [
        {
          "output_type": "execute_result",
          "data": {
            "text/html": [
              "<div>\n",
              "<style scoped>\n",
              "    .dataframe tbody tr th:only-of-type {\n",
              "        vertical-align: middle;\n",
              "    }\n",
              "\n",
              "    .dataframe tbody tr th {\n",
              "        vertical-align: top;\n",
              "    }\n",
              "\n",
              "    .dataframe thead th {\n",
              "        text-align: right;\n",
              "    }\n",
              "</style>\n",
              "<table border=\"1\" class=\"dataframe\">\n",
              "  <thead>\n",
              "    <tr style=\"text-align: right;\">\n",
              "      <th></th>\n",
              "      <th>Unnamed: 0</th>\n",
              "      <th>text</th>\n",
              "      <th>no_of_words</th>\n",
              "      <th>label</th>\n",
              "    </tr>\n",
              "  </thead>\n",
              "  <tbody>\n",
              "    <tr>\n",
              "      <th>0</th>\n",
              "      <td>200</td>\n",
              "      <td>while a journal for myself worked as a tool to...</td>\n",
              "      <td>21</td>\n",
              "      <td>0</td>\n",
              "    </tr>\n",
              "    <tr>\n",
              "      <th>1</th>\n",
              "      <td>201</td>\n",
              "      <td>i am getting my first vaccine today and i am b...</td>\n",
              "      <td>13</td>\n",
              "      <td>1</td>\n",
              "    </tr>\n",
              "    <tr>\n",
              "      <th>2</th>\n",
              "      <td>202</td>\n",
              "      <td>my ocd is going absolutely mad</td>\n",
              "      <td>7</td>\n",
              "      <td>1</td>\n",
              "    </tr>\n",
              "    <tr>\n",
              "      <th>3</th>\n",
              "      <td>203</td>\n",
              "      <td>i am nervous for an allergic reaction even tho...</td>\n",
              "      <td>19</td>\n",
              "      <td>1</td>\n",
              "    </tr>\n",
              "    <tr>\n",
              "      <th>4</th>\n",
              "      <td>204</td>\n",
              "      <td>the anxiety is making me have a bad headache a...</td>\n",
              "      <td>16</td>\n",
              "      <td>1</td>\n",
              "    </tr>\n",
              "  </tbody>\n",
              "</table>\n",
              "</div>"
            ],
            "text/plain": [
              "   Unnamed: 0  ... label\n",
              "0         200  ...     0\n",
              "1         201  ...     1\n",
              "2         202  ...     1\n",
              "3         203  ...     1\n",
              "4         204  ...     1\n",
              "\n",
              "[5 rows x 4 columns]"
            ]
          },
          "metadata": {},
          "execution_count": 417
        }
      ]
    },
    {
      "cell_type": "code",
      "metadata": {
        "id": "Ttm3oavtXCai"
      },
      "source": [
        "y_test=test_a['label']"
      ],
      "execution_count": null,
      "outputs": []
    },
    {
      "cell_type": "code",
      "metadata": {
        "id": "ZJ0jf7wWez_G"
      },
      "source": [
        "from sklearn.metrics import classification_report, confusion_matrix, accuracy_score"
      ],
      "execution_count": null,
      "outputs": []
    },
    {
      "cell_type": "code",
      "metadata": {
        "colab": {
          "base_uri": "https://localhost:8080/"
        },
        "id": "vD5KluBgfSht",
        "outputId": "96144d28-957c-43cc-c454-33c398160244"
      },
      "source": [
        "acc= accuracy_score(y_test, y_pred)\n",
        "print(f'accuracy of the naive bayes model is %.2f'% (acc*100)+'%')"
      ],
      "execution_count": null,
      "outputs": [
        {
          "output_type": "stream",
          "name": "stdout",
          "text": [
            "accuracy of the naive bayes model is 63.67%\n"
          ]
        }
      ]
    },
    {
      "cell_type": "code",
      "metadata": {
        "colab": {
          "base_uri": "https://localhost:8080/"
        },
        "id": "RXMLABu2fpTL",
        "outputId": "b656567d-8928-4b4c-c87d-19516ef3b347"
      },
      "source": [
        "creport = classification_report(y_test, y_pred)\n",
        "print(\"Classification report:\\n\",creport)"
      ],
      "execution_count": null,
      "outputs": [
        {
          "output_type": "stream",
          "name": "stdout",
          "text": [
            "Classification report:\n",
            "               precision    recall  f1-score   support\n",
            "\n",
            "           0       0.69      0.77      0.73       191\n",
            "           1       0.50      0.40      0.45       109\n",
            "\n",
            "    accuracy                           0.64       300\n",
            "   macro avg       0.60      0.59      0.59       300\n",
            "weighted avg       0.62      0.64      0.63       300\n",
            "\n"
          ]
        }
      ]
    },
    {
      "cell_type": "code",
      "metadata": {
        "colab": {
          "base_uri": "https://localhost:8080/",
          "height": 110
        },
        "id": "GByZDdBAfv52",
        "outputId": "3f14b080-4387-4ac0-c103-b5db36cd657d"
      },
      "source": [
        "#print confusion matrix\n",
        "cm = confusion_matrix(y_test, y_pred)\n",
        "cm1=pd.DataFrame(cm, columns=['True','False'],index=['True','False'])\n",
        "cm1"
      ],
      "execution_count": null,
      "outputs": [
        {
          "output_type": "execute_result",
          "data": {
            "text/html": [
              "<div>\n",
              "<style scoped>\n",
              "    .dataframe tbody tr th:only-of-type {\n",
              "        vertical-align: middle;\n",
              "    }\n",
              "\n",
              "    .dataframe tbody tr th {\n",
              "        vertical-align: top;\n",
              "    }\n",
              "\n",
              "    .dataframe thead th {\n",
              "        text-align: right;\n",
              "    }\n",
              "</style>\n",
              "<table border=\"1\" class=\"dataframe\">\n",
              "  <thead>\n",
              "    <tr style=\"text-align: right;\">\n",
              "      <th></th>\n",
              "      <th>True</th>\n",
              "      <th>False</th>\n",
              "    </tr>\n",
              "  </thead>\n",
              "  <tbody>\n",
              "    <tr>\n",
              "      <th>True</th>\n",
              "      <td>147</td>\n",
              "      <td>44</td>\n",
              "    </tr>\n",
              "    <tr>\n",
              "      <th>False</th>\n",
              "      <td>65</td>\n",
              "      <td>44</td>\n",
              "    </tr>\n",
              "  </tbody>\n",
              "</table>\n",
              "</div>"
            ],
            "text/plain": [
              "       True  False\n",
              "True    147     44\n",
              "False    65     44"
            ]
          },
          "metadata": {},
          "execution_count": 422
        }
      ]
    },
    {
      "cell_type": "code",
      "metadata": {
        "id": "phyWNZq5gCR6"
      },
      "source": [
        "from sklearn.svm import SVC\n",
        "model2 = make_pipeline(TfidfVectorizer(),SVC())"
      ],
      "execution_count": null,
      "outputs": []
    },
    {
      "cell_type": "code",
      "metadata": {
        "colab": {
          "base_uri": "https://localhost:8080/"
        },
        "id": "_6GYI27Ai9cm",
        "outputId": "0441860d-421e-41b1-8feb-203b27d12cc1"
      },
      "source": [
        "model2.fit(train, y_train)"
      ],
      "execution_count": null,
      "outputs": [
        {
          "output_type": "execute_result",
          "data": {
            "text/plain": [
              "Pipeline(memory=None,\n",
              "         steps=[('tfidfvectorizer',\n",
              "                 TfidfVectorizer(analyzer='word', binary=False,\n",
              "                                 decode_error='strict',\n",
              "                                 dtype=<class 'numpy.float64'>,\n",
              "                                 encoding='utf-8', input='content',\n",
              "                                 lowercase=True, max_df=1.0, max_features=None,\n",
              "                                 min_df=1, ngram_range=(1, 1), norm='l2',\n",
              "                                 preprocessor=None, smooth_idf=True,\n",
              "                                 stop_words=None, strip_accents=None,\n",
              "                                 sublinear_tf=False,\n",
              "                                 token_pattern='(?u)\\\\b\\\\w\\\\w+\\\\b',\n",
              "                                 tokenizer=None, use_idf=True,\n",
              "                                 vocabulary=None)),\n",
              "                ('svc',\n",
              "                 SVC(C=1.0, break_ties=False, cache_size=200, class_weight=None,\n",
              "                     coef0=0.0, decision_function_shape='ovr', degree=3,\n",
              "                     gamma='scale', kernel='rbf', max_iter=-1,\n",
              "                     probability=False, random_state=None, shrinking=True,\n",
              "                     tol=0.001, verbose=False))],\n",
              "         verbose=False)"
            ]
          },
          "metadata": {},
          "execution_count": 424
        }
      ]
    },
    {
      "cell_type": "code",
      "metadata": {
        "id": "-XLqk38gjVVn"
      },
      "source": [
        "y_pred_svc= model2.predict(test)"
      ],
      "execution_count": null,
      "outputs": []
    },
    {
      "cell_type": "code",
      "metadata": {
        "colab": {
          "base_uri": "https://localhost:8080/"
        },
        "id": "Hx5h385IjhNN",
        "outputId": "92917d2a-ee56-4504-f04d-cb1ed15e1a2f"
      },
      "source": [
        "acc= accuracy_score(y_test, y_pred_svc)\n",
        "print(f'accuracy of the svc model is %.2f'% (acc*100)+'%')"
      ],
      "execution_count": null,
      "outputs": [
        {
          "output_type": "stream",
          "name": "stdout",
          "text": [
            "accuracy of the svc model is 65.00%\n"
          ]
        }
      ]
    },
    {
      "cell_type": "code",
      "metadata": {
        "colab": {
          "base_uri": "https://localhost:8080/"
        },
        "id": "M0iVUFwekJV0",
        "outputId": "fb2c206a-be97-4222-f9bd-456ef08bee7c"
      },
      "source": [
        "creport = classification_report(y_test, y_pred_svc)\n",
        "print(\"Classification report:\\n\",creport)"
      ],
      "execution_count": null,
      "outputs": [
        {
          "output_type": "stream",
          "name": "stdout",
          "text": [
            "Classification report:\n",
            "               precision    recall  f1-score   support\n",
            "\n",
            "           0       0.67      0.91      0.77       191\n",
            "           1       0.55      0.20      0.30       109\n",
            "\n",
            "    accuracy                           0.65       300\n",
            "   macro avg       0.61      0.55      0.53       300\n",
            "weighted avg       0.62      0.65      0.60       300\n",
            "\n"
          ]
        }
      ]
    },
    {
      "cell_type": "code",
      "metadata": {
        "colab": {
          "base_uri": "https://localhost:8080/",
          "height": 110
        },
        "id": "L6fKG9NAk_EZ",
        "outputId": "f554d014-5fa3-44ea-e38a-aaa493b6fbf4"
      },
      "source": [
        "#confusion matrix for svc\n",
        "cm = confusion_matrix(y_test, y_pred_svc)\n",
        "cm1=pd.DataFrame(cm, columns=['True','False'],index=['True','False'])\n",
        "cm1"
      ],
      "execution_count": null,
      "outputs": [
        {
          "output_type": "execute_result",
          "data": {
            "text/html": [
              "<div>\n",
              "<style scoped>\n",
              "    .dataframe tbody tr th:only-of-type {\n",
              "        vertical-align: middle;\n",
              "    }\n",
              "\n",
              "    .dataframe tbody tr th {\n",
              "        vertical-align: top;\n",
              "    }\n",
              "\n",
              "    .dataframe thead th {\n",
              "        text-align: right;\n",
              "    }\n",
              "</style>\n",
              "<table border=\"1\" class=\"dataframe\">\n",
              "  <thead>\n",
              "    <tr style=\"text-align: right;\">\n",
              "      <th></th>\n",
              "      <th>True</th>\n",
              "      <th>False</th>\n",
              "    </tr>\n",
              "  </thead>\n",
              "  <tbody>\n",
              "    <tr>\n",
              "      <th>True</th>\n",
              "      <td>173</td>\n",
              "      <td>18</td>\n",
              "    </tr>\n",
              "    <tr>\n",
              "      <th>False</th>\n",
              "      <td>87</td>\n",
              "      <td>22</td>\n",
              "    </tr>\n",
              "  </tbody>\n",
              "</table>\n",
              "</div>"
            ],
            "text/plain": [
              "       True  False\n",
              "True    173     18\n",
              "False    87     22"
            ]
          },
          "metadata": {},
          "execution_count": 431
        }
      ]
    },
    {
      "cell_type": "markdown",
      "metadata": {
        "id": "o_jRtOTSv-A6"
      },
      "source": [
        "Naive Bayes shows better Precision and Recall as well as offers a similar accuracy score when compared with the SVC model. The SVC model seems to classify a large portion of the data as negetive. In this use case Naive Bayes seems like a better approach because higher Recall is crucial."
      ]
    },
    {
      "cell_type": "code",
      "metadata": {
        "id": "Zq4tm72_4WyE"
      },
      "source": [
        "# Trying an ensemble model for better results\n",
        "from sklearn.ensemble import RandomForestClassifier\n",
        "# Instantiating the model with 1000 decision trees\n",
        "# Train the model on training data\n",
        "model3 = make_pipeline(TfidfVectorizer(),RandomForestClassifier(n_estimators = 1000, random_state = 42))"
      ],
      "execution_count": null,
      "outputs": []
    },
    {
      "cell_type": "code",
      "metadata": {
        "colab": {
          "base_uri": "https://localhost:8080/"
        },
        "id": "IfI5MtfN5Eyw",
        "outputId": "74293a3a-656b-4faa-d778-a2f78e871b00"
      },
      "source": [
        "model3.fit(train, y_train)"
      ],
      "execution_count": null,
      "outputs": [
        {
          "output_type": "execute_result",
          "data": {
            "text/plain": [
              "Pipeline(memory=None,\n",
              "         steps=[('tfidfvectorizer',\n",
              "                 TfidfVectorizer(analyzer='word', binary=False,\n",
              "                                 decode_error='strict',\n",
              "                                 dtype=<class 'numpy.float64'>,\n",
              "                                 encoding='utf-8', input='content',\n",
              "                                 lowercase=True, max_df=1.0, max_features=None,\n",
              "                                 min_df=1, ngram_range=(1, 1), norm='l2',\n",
              "                                 preprocessor=None, smooth_idf=True,\n",
              "                                 stop_words=None, strip_accents=None,\n",
              "                                 sublinear_tf=False,\n",
              "                                 token...\n",
              "                 RandomForestClassifier(bootstrap=True, ccp_alpha=0.0,\n",
              "                                        class_weight=None, criterion='gini',\n",
              "                                        max_depth=None, max_features='auto',\n",
              "                                        max_leaf_nodes=None, max_samples=None,\n",
              "                                        min_impurity_decrease=0.0,\n",
              "                                        min_impurity_split=None,\n",
              "                                        min_samples_leaf=1, min_samples_split=2,\n",
              "                                        min_weight_fraction_leaf=0.0,\n",
              "                                        n_estimators=1000, n_jobs=None,\n",
              "                                        oob_score=False, random_state=42,\n",
              "                                        verbose=0, warm_start=False))],\n",
              "         verbose=False)"
            ]
          },
          "metadata": {},
          "execution_count": 452
        }
      ]
    },
    {
      "cell_type": "code",
      "metadata": {
        "id": "dWxNIhyv5PhB"
      },
      "source": [
        "y_pred_rf= model3.predict(test)"
      ],
      "execution_count": null,
      "outputs": []
    },
    {
      "cell_type": "code",
      "metadata": {
        "colab": {
          "base_uri": "https://localhost:8080/"
        },
        "id": "gRCiLbIF7Nbb",
        "outputId": "6ee9d766-236c-44f7-c68f-3206203c5aed"
      },
      "source": [
        "acc= accuracy_score(y_test, y_pred_rf)\n",
        "print(f'accuracy of the rf model is %.2f'% (acc*100)+'%')"
      ],
      "execution_count": null,
      "outputs": [
        {
          "output_type": "stream",
          "name": "stdout",
          "text": [
            "accuracy of the svc model is 66.33%\n"
          ]
        }
      ]
    },
    {
      "cell_type": "code",
      "metadata": {
        "colab": {
          "base_uri": "https://localhost:8080/"
        },
        "id": "Xen4fmsK8n1V",
        "outputId": "a8956dd8-2edb-4c07-9325-07771e936f8e"
      },
      "source": [
        "creport = classification_report(y_test, y_pred_rf)\n",
        "print(\"Classification report:\\n\",creport)"
      ],
      "execution_count": null,
      "outputs": [
        {
          "output_type": "stream",
          "name": "stdout",
          "text": [
            "Classification report:\n",
            "               precision    recall  f1-score   support\n",
            "\n",
            "           0       0.68      0.88      0.77       191\n",
            "           1       0.58      0.28      0.37       109\n",
            "\n",
            "    accuracy                           0.66       300\n",
            "   macro avg       0.63      0.58      0.57       300\n",
            "weighted avg       0.64      0.66      0.63       300\n",
            "\n"
          ]
        }
      ]
    },
    {
      "cell_type": "code",
      "metadata": {
        "colab": {
          "base_uri": "https://localhost:8080/",
          "height": 110
        },
        "id": "SyJ34NJn8yRT",
        "outputId": "a7fd4e41-01ec-4760-8f97-8d17d8f1034e"
      },
      "source": [
        "#confusion matrix for random forest\n",
        "cm = confusion_matrix(y_test, y_pred_rf)\n",
        "cm1=pd.DataFrame(cm, columns=['True','False'],index=['True','False'])\n",
        "cm1"
      ],
      "execution_count": null,
      "outputs": [
        {
          "output_type": "execute_result",
          "data": {
            "text/html": [
              "<div>\n",
              "<style scoped>\n",
              "    .dataframe tbody tr th:only-of-type {\n",
              "        vertical-align: middle;\n",
              "    }\n",
              "\n",
              "    .dataframe tbody tr th {\n",
              "        vertical-align: top;\n",
              "    }\n",
              "\n",
              "    .dataframe thead th {\n",
              "        text-align: right;\n",
              "    }\n",
              "</style>\n",
              "<table border=\"1\" class=\"dataframe\">\n",
              "  <thead>\n",
              "    <tr style=\"text-align: right;\">\n",
              "      <th></th>\n",
              "      <th>True</th>\n",
              "      <th>False</th>\n",
              "    </tr>\n",
              "  </thead>\n",
              "  <tbody>\n",
              "    <tr>\n",
              "      <th>True</th>\n",
              "      <td>169</td>\n",
              "      <td>22</td>\n",
              "    </tr>\n",
              "    <tr>\n",
              "      <th>False</th>\n",
              "      <td>79</td>\n",
              "      <td>30</td>\n",
              "    </tr>\n",
              "  </tbody>\n",
              "</table>\n",
              "</div>"
            ],
            "text/plain": [
              "       True  False\n",
              "True    169     22\n",
              "False    79     30"
            ]
          },
          "metadata": {},
          "execution_count": 458
        }
      ]
    },
    {
      "cell_type": "code",
      "metadata": {
        "colab": {
          "base_uri": "https://localhost:8080/"
        },
        "id": "wi5jW-7Z-ETW",
        "outputId": "926ffd36-988a-4631-dc3e-aa3448b8ff10"
      },
      "source": [
        "y_train.value_counts()"
      ],
      "execution_count": null,
      "outputs": [
        {
          "output_type": "execute_result",
          "data": {
            "text/plain": [
              "0    114\n",
              "1     86\n",
              "Name: label, dtype: int64"
            ]
          },
          "metadata": {},
          "execution_count": 460
        }
      ]
    },
    {
      "cell_type": "code",
      "metadata": {
        "colab": {
          "base_uri": "https://localhost:8080/"
        },
        "id": "ni9X3TlC-PDL",
        "outputId": "29dba2e6-7fcb-4f22-9fa6-4efa54157b79"
      },
      "source": [
        "y_test.value_counts()"
      ],
      "execution_count": null,
      "outputs": [
        {
          "output_type": "execute_result",
          "data": {
            "text/plain": [
              "0    191\n",
              "1    109\n",
              "Name: label, dtype: int64"
            ]
          },
          "metadata": {},
          "execution_count": 461
        }
      ]
    },
    {
      "cell_type": "markdown",
      "metadata": {
        "id": "I1CB7df_3pph"
      },
      "source": [
        "# **Including 2-grams for vectorizing and measuring performance with different models**"
      ]
    },
    {
      "cell_type": "code",
      "metadata": {
        "id": "jpOZGARX9GTM",
        "colab": {
          "base_uri": "https://localhost:8080/",
          "height": 206
        },
        "outputId": "6971b5ce-072b-4d98-85f8-75645c5f5f96"
      },
      "source": [
        "import pandas as pd\n",
        "df=pd.read_csv('dataset.csv')\n",
        "df.head()"
      ],
      "execution_count": null,
      "outputs": [
        {
          "output_type": "execute_result",
          "data": {
            "text/html": [
              "<div>\n",
              "<style scoped>\n",
              "    .dataframe tbody tr th:only-of-type {\n",
              "        vertical-align: middle;\n",
              "    }\n",
              "\n",
              "    .dataframe tbody tr th {\n",
              "        vertical-align: top;\n",
              "    }\n",
              "\n",
              "    .dataframe thead th {\n",
              "        text-align: right;\n",
              "    }\n",
              "</style>\n",
              "<table border=\"1\" class=\"dataframe\">\n",
              "  <thead>\n",
              "    <tr style=\"text-align: right;\">\n",
              "      <th></th>\n",
              "      <th>Unnamed: 0</th>\n",
              "      <th>text</th>\n",
              "      <th>no_of_words</th>\n",
              "    </tr>\n",
              "  </thead>\n",
              "  <tbody>\n",
              "    <tr>\n",
              "      <th>0</th>\n",
              "      <td>0</td>\n",
              "      <td>but once in a while you get shown the light i...</td>\n",
              "      <td>22</td>\n",
              "    </tr>\n",
              "    <tr>\n",
              "      <th>1</th>\n",
              "      <td>1</td>\n",
              "      <td>thanks and stay safe the r anxiety mod team i...</td>\n",
              "      <td>19</td>\n",
              "    </tr>\n",
              "    <tr>\n",
              "      <th>2</th>\n",
              "      <td>2</td>\n",
              "      <td>it s as if through giving into an urge i m fr...</td>\n",
              "      <td>23</td>\n",
              "    </tr>\n",
              "    <tr>\n",
              "      <th>3</th>\n",
              "      <td>3</td>\n",
              "      <td>my cousin came over today and i was having a ...</td>\n",
              "      <td>23</td>\n",
              "    </tr>\n",
              "    <tr>\n",
              "      <th>4</th>\n",
              "      <td>4</td>\n",
              "      <td>even the xanax barely helped</td>\n",
              "      <td>6</td>\n",
              "    </tr>\n",
              "  </tbody>\n",
              "</table>\n",
              "</div>"
            ],
            "text/plain": [
              "   Unnamed: 0                                               text  no_of_words\n",
              "0           0   but once in a while you get shown the light i...           22\n",
              "1           1   thanks and stay safe the r anxiety mod team i...           19\n",
              "2           2   it s as if through giving into an urge i m fr...           23\n",
              "3           3   my cousin came over today and i was having a ...           23\n",
              "4           4                       even the xanax barely helped            6"
            ]
          },
          "metadata": {},
          "execution_count": 3
        }
      ]
    },
    {
      "cell_type": "code",
      "metadata": {
        "id": "p_wEe90CEpdF"
      },
      "source": [
        "df1=df['text'].apply(lambda x : x.split())"
      ],
      "execution_count": null,
      "outputs": []
    },
    {
      "cell_type": "code",
      "metadata": {
        "id": "wG071vslFLCq",
        "colab": {
          "base_uri": "https://localhost:8080/"
        },
        "outputId": "f87fcbaf-7454-482c-bf89-d69173772377"
      },
      "source": [
        "import nltk\n",
        "from nltk.corpus import stopwords\n",
        "nltk.download('stopwords')\n",
        "def remove_stopwords(text):\n",
        "  words=[w for w in text if w not in stopwords.words('english')]\n",
        "  return words\n",
        "df2=df1.apply(lambda x : remove_stopwords(x))"
      ],
      "execution_count": null,
      "outputs": [
        {
          "output_type": "stream",
          "name": "stdout",
          "text": [
            "[nltk_data] Downloading package stopwords to /root/nltk_data...\n",
            "[nltk_data]   Package stopwords is already up-to-date!\n"
          ]
        }
      ]
    },
    {
      "cell_type": "code",
      "metadata": {
        "id": "RFrHz4kYDnzL"
      },
      "source": [
        "#transforming individual words to their roots, these words may not be found in the dictionary or even make sense\n",
        "stemmer= nltk.PorterStemmer()\n",
        "def word_stemmer(text):\n",
        "  stem_text=\" \".join([stemmer.stem(i) for i in text])\n",
        "  return stem_text"
      ],
      "execution_count": null,
      "outputs": []
    },
    {
      "cell_type": "code",
      "metadata": {
        "id": "pbskZpOYDnzL"
      },
      "source": [
        "a=df2.apply(lambda x : word_stemmer(x))"
      ],
      "execution_count": null,
      "outputs": []
    },
    {
      "cell_type": "code",
      "metadata": {
        "id": "TQxjff0bF21-"
      },
      "source": [
        "#a=df2.apply(lambda x : \" \".join(x))"
      ],
      "execution_count": null,
      "outputs": []
    },
    {
      "cell_type": "code",
      "metadata": {
        "id": "aQ5d9YIsF_4B"
      },
      "source": [
        "from sklearn.feature_extraction.text import TfidfVectorizer\n",
        "import pandas as pd\n",
        "# using default tokenizer in TfidfVectorizer\n",
        "tfidf = TfidfVectorizer(min_df=2, max_df=0.5, ngram_range=(1, 2))\n",
        "features = tfidf.fit_transform(a)\n",
        "x=pd.DataFrame(features.todense(),columns=tfidf.get_feature_names())"
      ],
      "execution_count": null,
      "outputs": []
    },
    {
      "cell_type": "code",
      "metadata": {
        "id": "Au5VZprNGFn0"
      },
      "source": [
        "x_train=x.iloc[0:200,:]\n",
        "x_test=x.iloc[200:,:]"
      ],
      "execution_count": null,
      "outputs": []
    },
    {
      "cell_type": "code",
      "metadata": {
        "id": "8ofkbPeeGHiN"
      },
      "source": [
        "train=pd.read_csv('train_a.csv')\n",
        "test=pd.read_csv('test_a.csv')\n",
        "y_train=train['label']\n",
        "y_test=test['label']"
      ],
      "execution_count": null,
      "outputs": []
    },
    {
      "cell_type": "code",
      "metadata": {
        "id": "BsqGa8UtHCsp"
      },
      "source": [
        "from sklearn.linear_model import LogisticRegression\n",
        "# all parameters not specified are set to their defaults\n",
        "logisticRegr = LogisticRegression()\n",
        "logisticRegr.fit(x_train, y_train)\n",
        "y_pred_lr = logisticRegr.predict(x_test)"
      ],
      "execution_count": null,
      "outputs": []
    },
    {
      "cell_type": "code",
      "metadata": {
        "id": "XQ7TSBknIQcv",
        "colab": {
          "base_uri": "https://localhost:8080/"
        },
        "outputId": "b11d50cf-e39d-466b-faaa-4646040799e9"
      },
      "source": [
        "from sklearn.metrics import accuracy_score\n",
        "acc= accuracy_score(y_test, y_pred_lr)\n",
        "print(f'accuracy of the logistic model is %.2f'% (acc*100)+'%')"
      ],
      "execution_count": null,
      "outputs": [
        {
          "output_type": "stream",
          "name": "stdout",
          "text": [
            "accuracy of the logistic model is 65.33%\n"
          ]
        }
      ]
    },
    {
      "cell_type": "code",
      "metadata": {
        "id": "GkHZqZeO5QKe"
      },
      "source": [
        "from sklearn.svm import SVC\n",
        "svc= SVC()\n",
        "svc.fit(x_train,y_train)\n",
        "y_pred_svc = svc.predict(x_test)"
      ],
      "execution_count": null,
      "outputs": []
    },
    {
      "cell_type": "code",
      "metadata": {
        "colab": {
          "base_uri": "https://localhost:8080/"
        },
        "id": "NVlx6rtE58Fu",
        "outputId": "d9015a2f-e1aa-4a5f-81d0-352491a26038"
      },
      "source": [
        "acc= accuracy_score(y_test, y_pred_svc)\n",
        "print(f'accuracy of the svc is %.2f'% (acc*100)+'%')"
      ],
      "execution_count": null,
      "outputs": [
        {
          "output_type": "stream",
          "name": "stdout",
          "text": [
            "accuracy of the svc is 66.33%\n"
          ]
        }
      ]
    },
    {
      "cell_type": "markdown",
      "metadata": {
        "id": "CuHs39KbEJ3x"
      },
      "source": [
        "1.33% jump in performance of svc model when we include 2 gram tockens as well"
      ]
    }
  ]
}